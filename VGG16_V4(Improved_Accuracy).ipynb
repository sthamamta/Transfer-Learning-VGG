{
  "nbformat": 4,
  "nbformat_minor": 0,
  "metadata": {
    "accelerator": "GPU",
    "colab": {
      "name": "VGG16_V4(Improved Accuracy).ipynb",
      "provenance": [],
      "collapsed_sections": [],
      "authorship_tag": "ABX9TyP2r2oD6vl+YxKPs8j7L6hL",
      "include_colab_link": true
    },
    "kernelspec": {
      "display_name": "Python 3",
      "name": "python3"
    },
    "language_info": {
      "name": "python"
    }
  },
  "cells": [
    {
      "cell_type": "markdown",
      "metadata": {
        "id": "view-in-github",
        "colab_type": "text"
      },
      "source": [
        "<a href=\"https://colab.research.google.com/github/sthamamta/Transfer-Learning-VGG/blob/main/VGG16_V4(Improved_Accuracy).ipynb\" target=\"_parent\"><img src=\"https://colab.research.google.com/assets/colab-badge.svg\" alt=\"Open In Colab\"/></a>"
      ]
    },
    {
      "cell_type": "code",
      "metadata": {
        "id": "g97rkOEruCR-"
      },
      "source": [
        "import scipy as sp\n",
        "import numpy as np\n",
        "import pandas as pd\n",
        "from numpy.random import rand\n",
        "from sklearn import metrics\n",
        "pd.options.display.max_colwidth = 600\n",
        "\n",
        "from sklearn import preprocessing\n",
        "from sklearn.metrics import roc_curve, auc, precision_recall_curve\n",
        "from sklearn.model_selection import train_test_split\n",
        "\n",
        "import matplotlib.pyplot as plt\n",
        "%matplotlib inline\n",
        "\n",
        "import warnings\n",
        "warnings.filterwarnings('ignore')"
      ],
      "execution_count": 1,
      "outputs": []
    },
    {
      "cell_type": "code",
      "metadata": {
        "id": "XLFXwWhFunQB"
      },
      "source": [
        "import tensorflow as tf\n",
        "from keras import callbacks\n",
        "from keras import optimizers\n",
        "from keras.datasets import cifar10\n",
        "from keras.models import Model\n",
        "from keras.applications import vgg16 as vgg\n",
        "from keras.layers import Dropout, Flatten, Dense, GlobalAveragePooling2D,BatchNormalization\n",
        "from keras.preprocessing.image import ImageDataGenerator\n",
        "from keras.utils import np_utils\n"
      ],
      "execution_count": 2,
      "outputs": []
    },
    {
      "cell_type": "code",
      "metadata": {
        "id": "IJyYbjW3uphf"
      },
      "source": [
        "BATCH_SIZE = 16\n",
        "EPOCHS = 160\n",
        "NUM_CLASSES = 10\n",
        "LEARNING_RATE = 1e-4\n",
        "MOMENTUM = 0.9"
      ],
      "execution_count": 3,
      "outputs": []
    },
    {
      "cell_type": "code",
      "metadata": {
        "colab": {
          "base_uri": "https://localhost:8080/"
        },
        "id": "fByysIS9uGJi",
        "outputId": "a60b009b-4fc2-40d1-9f92-beffa264f452"
      },
      "source": [
        "(X_train, y_train), (X_test, y_test) = cifar10.load_data()"
      ],
      "execution_count": 4,
      "outputs": [
        {
          "output_type": "stream",
          "text": [
            "Downloading data from https://www.cs.toronto.edu/~kriz/cifar-10-python.tar.gz\n",
            "170500096/170498071 [==============================] - 4s 0us/step\n",
            "170508288/170498071 [==============================] - 4s 0us/step\n"
          ],
          "name": "stdout"
        }
      ]
    },
    {
      "cell_type": "code",
      "metadata": {
        "id": "GlUAr1shvYJP"
      },
      "source": [
        "# Split training dataset in train and validation sets\n",
        "X_train, X_val, y_train, y_val = train_test_split(X_train, \n",
        "                                                  y_train, \n",
        "                                                  test_size=0.15, \n",
        "                                                  stratify=np.array(y_train), \n",
        "                                                  random_state=42)"
      ],
      "execution_count": 5,
      "outputs": []
    },
    {
      "cell_type": "code",
      "metadata": {
        "id": "fWrQqYHCvbDD"
      },
      "source": [
        "# Transforming target variable/labels into one hot encoded form\n",
        "Y_train = np_utils.to_categorical(y_train, NUM_CLASSES)\n",
        "Y_val = np_utils.to_categorical(y_val, NUM_CLASSES)\n",
        "Y_test = np_utils.to_categorical(y_test, NUM_CLASSES)"
      ],
      "execution_count": 6,
      "outputs": []
    },
    {
      "cell_type": "code",
      "metadata": {
        "id": "_NGW1kQkvjBi"
      },
      "source": [
        "\n",
        "from skimage.transform import resize\n",
        "from skimage import data\n",
        "\n",
        "X_train = np.array([resize(x, (48,48)) for x in X_train])\n",
        "\n",
        "# numpy.array(Image.fromarray(arr).resize())\n",
        "X_val = np.array([resize(x, (48,48)) for x in X_val])\n",
        "X_test = np.array([resize(x, (48,48)) for x in X_test])"
      ],
      "execution_count": 7,
      "outputs": []
    },
    {
      "cell_type": "code",
      "metadata": {
        "colab": {
          "base_uri": "https://localhost:8080/"
        },
        "id": "mSynyHOjvvVd",
        "outputId": "d3693fb7-3c49-44e4-a036-54cacb91389f"
      },
      "source": [
        "base_model = vgg.VGG16(weights='imagenet', \n",
        "                       include_top=False, \n",
        "                       input_shape=(48, 48, 3))"
      ],
      "execution_count": 8,
      "outputs": [
        {
          "output_type": "stream",
          "text": [
            "Downloading data from https://storage.googleapis.com/tensorflow/keras-applications/vgg16/vgg16_weights_tf_dim_ordering_tf_kernels_notop.h5\n",
            "58892288/58889256 [==============================] - 1s 0us/step\n",
            "58900480/58889256 [==============================] - 1s 0us/step\n"
          ],
          "name": "stdout"
        }
      ]
    },
    {
      "cell_type": "code",
      "metadata": {
        "id": "p-DIsFrfx_Qi"
      },
      "source": [
        "# Extract the last layer from third block of vgg16 model\n",
        "last = base_model.get_layer('block3_pool').output"
      ],
      "execution_count": 9,
      "outputs": []
    },
    {
      "cell_type": "code",
      "metadata": {
        "id": "2OpGk3fdyB9A"
      },
      "source": [
        "# Add classification layers on top of it\n",
        "x = GlobalAveragePooling2D()(last)\n",
        "x= BatchNormalization()(x)\n",
        "x = Dense(256, activation='relu')(x)\n",
        "x = Dense(256, activation='relu')(x)\n",
        "x = Dropout(0.6)(x)\n",
        "pred = Dense(NUM_CLASSES, activation='softmax')(x)\n",
        "model = Model(base_model.input, pred)"
      ],
      "execution_count": 10,
      "outputs": []
    },
    {
      "cell_type": "code",
      "metadata": {
        "id": "8SZCWR8xyEKC"
      },
      "source": [
        "for layer in base_model.layers:\n",
        "     layer.trainable = False"
      ],
      "execution_count": 11,
      "outputs": []
    },
    {
      "cell_type": "code",
      "metadata": {
        "id": "A8xPJGfAyGF8"
      },
      "source": [
        "model.compile(loss='binary_crossentropy',\n",
        "              optimizer=optimizers.Adam(lr=LEARNING_RATE),\n",
        "              metrics=['accuracy'])"
      ],
      "execution_count": 12,
      "outputs": []
    },
    {
      "cell_type": "code",
      "metadata": {
        "colab": {
          "base_uri": "https://localhost:8080/"
        },
        "id": "UorQogCRyIZ7",
        "outputId": "45b1ac83-ef1c-4adb-e86c-ea6772494ccd"
      },
      "source": [
        "model.summary()"
      ],
      "execution_count": 13,
      "outputs": [
        {
          "output_type": "stream",
          "text": [
            "Model: \"model\"\n",
            "_________________________________________________________________\n",
            "Layer (type)                 Output Shape              Param #   \n",
            "=================================================================\n",
            "input_1 (InputLayer)         [(None, 48, 48, 3)]       0         \n",
            "_________________________________________________________________\n",
            "block1_conv1 (Conv2D)        (None, 48, 48, 64)        1792      \n",
            "_________________________________________________________________\n",
            "block1_conv2 (Conv2D)        (None, 48, 48, 64)        36928     \n",
            "_________________________________________________________________\n",
            "block1_pool (MaxPooling2D)   (None, 24, 24, 64)        0         \n",
            "_________________________________________________________________\n",
            "block2_conv1 (Conv2D)        (None, 24, 24, 128)       73856     \n",
            "_________________________________________________________________\n",
            "block2_conv2 (Conv2D)        (None, 24, 24, 128)       147584    \n",
            "_________________________________________________________________\n",
            "block2_pool (MaxPooling2D)   (None, 12, 12, 128)       0         \n",
            "_________________________________________________________________\n",
            "block3_conv1 (Conv2D)        (None, 12, 12, 256)       295168    \n",
            "_________________________________________________________________\n",
            "block3_conv2 (Conv2D)        (None, 12, 12, 256)       590080    \n",
            "_________________________________________________________________\n",
            "block3_conv3 (Conv2D)        (None, 12, 12, 256)       590080    \n",
            "_________________________________________________________________\n",
            "block3_pool (MaxPooling2D)   (None, 6, 6, 256)         0         \n",
            "_________________________________________________________________\n",
            "global_average_pooling2d (Gl (None, 256)               0         \n",
            "_________________________________________________________________\n",
            "batch_normalization (BatchNo (None, 256)               1024      \n",
            "_________________________________________________________________\n",
            "dense (Dense)                (None, 256)               65792     \n",
            "_________________________________________________________________\n",
            "dense_1 (Dense)              (None, 256)               65792     \n",
            "_________________________________________________________________\n",
            "dropout (Dropout)            (None, 256)               0         \n",
            "_________________________________________________________________\n",
            "dense_2 (Dense)              (None, 10)                2570      \n",
            "=================================================================\n",
            "Total params: 1,870,666\n",
            "Trainable params: 134,666\n",
            "Non-trainable params: 1,736,000\n",
            "_________________________________________________________________\n"
          ],
          "name": "stdout"
        }
      ]
    },
    {
      "cell_type": "code",
      "metadata": {
        "id": "NR9duPeCyKsf"
      },
      "source": [
        "# prepare data augmentation configuration\n",
        "train_datagen = ImageDataGenerator(\n",
        "    rescale=1. / 255,\n",
        "    horizontal_flip=False)"
      ],
      "execution_count": 14,
      "outputs": []
    },
    {
      "cell_type": "code",
      "metadata": {
        "id": "HmSQuFuWyTIm"
      },
      "source": [
        "\n",
        "train_datagen.fit(X_train)\n",
        "train_generator = train_datagen.flow(X_train,\n",
        "                                     Y_train, \n",
        "                                     batch_size=BATCH_SIZE)"
      ],
      "execution_count": 15,
      "outputs": []
    },
    {
      "cell_type": "code",
      "metadata": {
        "id": "BhBX7b5xyVY6"
      },
      "source": [
        "val_datagen = ImageDataGenerator(rescale=1. / 255,\n",
        "    horizontal_flip=False)\n",
        "\n",
        "val_datagen.fit(X_val)\n",
        "val_generator = val_datagen.flow(X_val,\n",
        "                                 Y_val,\n",
        "                                 batch_size=BATCH_SIZE)"
      ],
      "execution_count": 16,
      "outputs": []
    },
    {
      "cell_type": "code",
      "metadata": {
        "colab": {
          "base_uri": "https://localhost:8080/"
        },
        "id": "UFYja32VyXsW",
        "outputId": "4bdb8886-ff0b-4fea-9103-00850d753c6a"
      },
      "source": [
        "train_steps_per_epoch = X_train.shape[0] // BATCH_SIZE\n",
        "val_steps_per_epoch = X_val.shape[0] // BATCH_SIZE\n",
        "\n",
        "history = model.fit_generator(train_generator,\n",
        "                              steps_per_epoch=train_steps_per_epoch,\n",
        "                              validation_data=val_generator,\n",
        "                              validation_steps=val_steps_per_epoch,\n",
        "                              epochs=EPOCHS,\n",
        "                              verbose=1)"
      ],
      "execution_count": 17,
      "outputs": [
        {
          "output_type": "stream",
          "text": [
            "Epoch 1/160\n",
            "2656/2656 [==============================] - 60s 6ms/step - loss: 0.3476 - accuracy: 0.2383 - val_loss: 0.2311 - val_accuracy: 0.4824\n",
            "Epoch 2/160\n",
            "2656/2656 [==============================] - 16s 6ms/step - loss: 0.2450 - accuracy: 0.4380 - val_loss: 0.2098 - val_accuracy: 0.5337\n",
            "Epoch 3/160\n",
            "2656/2656 [==============================] - 16s 6ms/step - loss: 0.2265 - accuracy: 0.4879 - val_loss: 0.1992 - val_accuracy: 0.5606\n",
            "Epoch 4/160\n",
            "2656/2656 [==============================] - 16s 6ms/step - loss: 0.2154 - accuracy: 0.5216 - val_loss: 0.1925 - val_accuracy: 0.5800\n",
            "Epoch 5/160\n",
            "2656/2656 [==============================] - 16s 6ms/step - loss: 0.2093 - accuracy: 0.5380 - val_loss: 0.1866 - val_accuracy: 0.5864\n",
            "Epoch 6/160\n",
            "2656/2656 [==============================] - 16s 6ms/step - loss: 0.2030 - accuracy: 0.5506 - val_loss: 0.1824 - val_accuracy: 0.6010\n",
            "Epoch 7/160\n",
            "2656/2656 [==============================] - 16s 6ms/step - loss: 0.1979 - accuracy: 0.5645 - val_loss: 0.1787 - val_accuracy: 0.6095\n",
            "Epoch 8/160\n",
            "2656/2656 [==============================] - 16s 6ms/step - loss: 0.1941 - accuracy: 0.5752 - val_loss: 0.1762 - val_accuracy: 0.6191\n",
            "Epoch 9/160\n",
            "2656/2656 [==============================] - 16s 6ms/step - loss: 0.1897 - accuracy: 0.5864 - val_loss: 0.1735 - val_accuracy: 0.6235\n",
            "Epoch 10/160\n",
            "2656/2656 [==============================] - 16s 6ms/step - loss: 0.1885 - accuracy: 0.5890 - val_loss: 0.1710 - val_accuracy: 0.6287\n",
            "Epoch 11/160\n",
            "2656/2656 [==============================] - 16s 6ms/step - loss: 0.1845 - accuracy: 0.6008 - val_loss: 0.1694 - val_accuracy: 0.6299\n",
            "Epoch 12/160\n",
            "2656/2656 [==============================] - 16s 6ms/step - loss: 0.1829 - accuracy: 0.6021 - val_loss: 0.1674 - val_accuracy: 0.6412\n",
            "Epoch 13/160\n",
            "2656/2656 [==============================] - 16s 6ms/step - loss: 0.1802 - accuracy: 0.6112 - val_loss: 0.1659 - val_accuracy: 0.6409\n",
            "Epoch 14/160\n",
            "2656/2656 [==============================] - 16s 6ms/step - loss: 0.1797 - accuracy: 0.6123 - val_loss: 0.1647 - val_accuracy: 0.6430\n",
            "Epoch 15/160\n",
            "2656/2656 [==============================] - 17s 6ms/step - loss: 0.1767 - accuracy: 0.6185 - val_loss: 0.1632 - val_accuracy: 0.6421\n",
            "Epoch 16/160\n",
            "2656/2656 [==============================] - 17s 6ms/step - loss: 0.1745 - accuracy: 0.6243 - val_loss: 0.1618 - val_accuracy: 0.6492\n",
            "Epoch 17/160\n",
            "2656/2656 [==============================] - 16s 6ms/step - loss: 0.1724 - accuracy: 0.6261 - val_loss: 0.1610 - val_accuracy: 0.6502\n",
            "Epoch 18/160\n",
            "2656/2656 [==============================] - 16s 6ms/step - loss: 0.1726 - accuracy: 0.6294 - val_loss: 0.1601 - val_accuracy: 0.6501\n",
            "Epoch 19/160\n",
            "2656/2656 [==============================] - 16s 6ms/step - loss: 0.1678 - accuracy: 0.6391 - val_loss: 0.1584 - val_accuracy: 0.6577\n",
            "Epoch 20/160\n",
            "2656/2656 [==============================] - 16s 6ms/step - loss: 0.1692 - accuracy: 0.6386 - val_loss: 0.1583 - val_accuracy: 0.6589\n",
            "Epoch 21/160\n",
            "2656/2656 [==============================] - 16s 6ms/step - loss: 0.1673 - accuracy: 0.6444 - val_loss: 0.1571 - val_accuracy: 0.6584\n",
            "Epoch 22/160\n",
            "2656/2656 [==============================] - 16s 6ms/step - loss: 0.1669 - accuracy: 0.6454 - val_loss: 0.1556 - val_accuracy: 0.6613\n",
            "Epoch 23/160\n",
            "2656/2656 [==============================] - 16s 6ms/step - loss: 0.1653 - accuracy: 0.6476 - val_loss: 0.1556 - val_accuracy: 0.6639\n",
            "Epoch 24/160\n",
            "2656/2656 [==============================] - 16s 6ms/step - loss: 0.1631 - accuracy: 0.6530 - val_loss: 0.1550 - val_accuracy: 0.6656\n",
            "Epoch 25/160\n",
            "2656/2656 [==============================] - 16s 6ms/step - loss: 0.1624 - accuracy: 0.6542 - val_loss: 0.1545 - val_accuracy: 0.6661\n",
            "Epoch 26/160\n",
            "2656/2656 [==============================] - 16s 6ms/step - loss: 0.1617 - accuracy: 0.6542 - val_loss: 0.1542 - val_accuracy: 0.6631\n",
            "Epoch 27/160\n",
            "2656/2656 [==============================] - 16s 6ms/step - loss: 0.1590 - accuracy: 0.6607 - val_loss: 0.1541 - val_accuracy: 0.6705\n",
            "Epoch 28/160\n",
            "2656/2656 [==============================] - 16s 6ms/step - loss: 0.1592 - accuracy: 0.6644 - val_loss: 0.1527 - val_accuracy: 0.6715\n",
            "Epoch 29/160\n",
            "2656/2656 [==============================] - 16s 6ms/step - loss: 0.1583 - accuracy: 0.6636 - val_loss: 0.1531 - val_accuracy: 0.6699\n",
            "Epoch 30/160\n",
            "2656/2656 [==============================] - 16s 6ms/step - loss: 0.1561 - accuracy: 0.6693 - val_loss: 0.1519 - val_accuracy: 0.6720\n",
            "Epoch 31/160\n",
            "2656/2656 [==============================] - 16s 6ms/step - loss: 0.1562 - accuracy: 0.6662 - val_loss: 0.1519 - val_accuracy: 0.6696\n",
            "Epoch 32/160\n",
            "2656/2656 [==============================] - 16s 6ms/step - loss: 0.1553 - accuracy: 0.6729 - val_loss: 0.1513 - val_accuracy: 0.6769\n",
            "Epoch 33/160\n",
            "2656/2656 [==============================] - 16s 6ms/step - loss: 0.1540 - accuracy: 0.6741 - val_loss: 0.1510 - val_accuracy: 0.6735\n",
            "Epoch 34/160\n",
            "2656/2656 [==============================] - 16s 6ms/step - loss: 0.1541 - accuracy: 0.6745 - val_loss: 0.1508 - val_accuracy: 0.6763\n",
            "Epoch 35/160\n",
            "2656/2656 [==============================] - 16s 6ms/step - loss: 0.1513 - accuracy: 0.6853 - val_loss: 0.1503 - val_accuracy: 0.6764\n",
            "Epoch 36/160\n",
            "2656/2656 [==============================] - 16s 6ms/step - loss: 0.1514 - accuracy: 0.6816 - val_loss: 0.1504 - val_accuracy: 0.6790\n",
            "Epoch 37/160\n",
            "2656/2656 [==============================] - 16s 6ms/step - loss: 0.1512 - accuracy: 0.6798 - val_loss: 0.1500 - val_accuracy: 0.6788\n",
            "Epoch 38/160\n",
            "2656/2656 [==============================] - 16s 6ms/step - loss: 0.1494 - accuracy: 0.6855 - val_loss: 0.1502 - val_accuracy: 0.6794\n",
            "Epoch 39/160\n",
            "2656/2656 [==============================] - 16s 6ms/step - loss: 0.1481 - accuracy: 0.6909 - val_loss: 0.1497 - val_accuracy: 0.6784\n",
            "Epoch 40/160\n",
            "2656/2656 [==============================] - 16s 6ms/step - loss: 0.1477 - accuracy: 0.6915 - val_loss: 0.1497 - val_accuracy: 0.6806\n",
            "Epoch 41/160\n",
            "2656/2656 [==============================] - 16s 6ms/step - loss: 0.1480 - accuracy: 0.6897 - val_loss: 0.1493 - val_accuracy: 0.6788\n",
            "Epoch 42/160\n",
            "2656/2656 [==============================] - 16s 6ms/step - loss: 0.1451 - accuracy: 0.6944 - val_loss: 0.1486 - val_accuracy: 0.6838\n",
            "Epoch 43/160\n",
            "2656/2656 [==============================] - 16s 6ms/step - loss: 0.1460 - accuracy: 0.6966 - val_loss: 0.1491 - val_accuracy: 0.6795\n",
            "Epoch 44/160\n",
            "2656/2656 [==============================] - 16s 6ms/step - loss: 0.1446 - accuracy: 0.6987 - val_loss: 0.1488 - val_accuracy: 0.6815\n",
            "Epoch 45/160\n",
            "2656/2656 [==============================] - 16s 6ms/step - loss: 0.1423 - accuracy: 0.7044 - val_loss: 0.1489 - val_accuracy: 0.6827\n",
            "Epoch 46/160\n",
            "2656/2656 [==============================] - 16s 6ms/step - loss: 0.1431 - accuracy: 0.7017 - val_loss: 0.1487 - val_accuracy: 0.6810\n",
            "Epoch 47/160\n",
            "2656/2656 [==============================] - 16s 6ms/step - loss: 0.1437 - accuracy: 0.7021 - val_loss: 0.1482 - val_accuracy: 0.6822\n",
            "Epoch 48/160\n",
            "2656/2656 [==============================] - 16s 6ms/step - loss: 0.1426 - accuracy: 0.7034 - val_loss: 0.1483 - val_accuracy: 0.6827\n",
            "Epoch 49/160\n",
            "2656/2656 [==============================] - 16s 6ms/step - loss: 0.1408 - accuracy: 0.7072 - val_loss: 0.1493 - val_accuracy: 0.6780\n",
            "Epoch 50/160\n",
            "2656/2656 [==============================] - 16s 6ms/step - loss: 0.1403 - accuracy: 0.7091 - val_loss: 0.1492 - val_accuracy: 0.6824\n",
            "Epoch 51/160\n",
            "2656/2656 [==============================] - 16s 6ms/step - loss: 0.1381 - accuracy: 0.7147 - val_loss: 0.1482 - val_accuracy: 0.6850\n",
            "Epoch 52/160\n",
            "2656/2656 [==============================] - 16s 6ms/step - loss: 0.1384 - accuracy: 0.7116 - val_loss: 0.1482 - val_accuracy: 0.6846\n",
            "Epoch 53/160\n",
            "2656/2656 [==============================] - 16s 6ms/step - loss: 0.1382 - accuracy: 0.7099 - val_loss: 0.1482 - val_accuracy: 0.6892\n",
            "Epoch 54/160\n",
            "2656/2656 [==============================] - 16s 6ms/step - loss: 0.1383 - accuracy: 0.7117 - val_loss: 0.1475 - val_accuracy: 0.6898\n",
            "Epoch 55/160\n",
            "2656/2656 [==============================] - 16s 6ms/step - loss: 0.1384 - accuracy: 0.7127 - val_loss: 0.1481 - val_accuracy: 0.6840\n",
            "Epoch 56/160\n",
            "2656/2656 [==============================] - 16s 6ms/step - loss: 0.1361 - accuracy: 0.7188 - val_loss: 0.1471 - val_accuracy: 0.6884\n",
            "Epoch 57/160\n",
            "2656/2656 [==============================] - 16s 6ms/step - loss: 0.1363 - accuracy: 0.7195 - val_loss: 0.1467 - val_accuracy: 0.6935\n",
            "Epoch 58/160\n",
            "2656/2656 [==============================] - 16s 6ms/step - loss: 0.1350 - accuracy: 0.7187 - val_loss: 0.1476 - val_accuracy: 0.6858\n",
            "Epoch 59/160\n",
            "2656/2656 [==============================] - 16s 6ms/step - loss: 0.1331 - accuracy: 0.7265 - val_loss: 0.1473 - val_accuracy: 0.6851\n",
            "Epoch 60/160\n",
            "2656/2656 [==============================] - 16s 6ms/step - loss: 0.1348 - accuracy: 0.7227 - val_loss: 0.1474 - val_accuracy: 0.6899\n",
            "Epoch 61/160\n",
            "2656/2656 [==============================] - 16s 6ms/step - loss: 0.1333 - accuracy: 0.7240 - val_loss: 0.1473 - val_accuracy: 0.6888\n",
            "Epoch 62/160\n",
            "2656/2656 [==============================] - 16s 6ms/step - loss: 0.1336 - accuracy: 0.7261 - val_loss: 0.1485 - val_accuracy: 0.6858\n",
            "Epoch 63/160\n",
            "2656/2656 [==============================] - 16s 6ms/step - loss: 0.1330 - accuracy: 0.7265 - val_loss: 0.1473 - val_accuracy: 0.6890\n",
            "Epoch 64/160\n",
            "2656/2656 [==============================] - 16s 6ms/step - loss: 0.1320 - accuracy: 0.7265 - val_loss: 0.1478 - val_accuracy: 0.6884\n",
            "Epoch 65/160\n",
            "2656/2656 [==============================] - 16s 6ms/step - loss: 0.1318 - accuracy: 0.7297 - val_loss: 0.1474 - val_accuracy: 0.6906\n",
            "Epoch 66/160\n",
            "2656/2656 [==============================] - 16s 6ms/step - loss: 0.1310 - accuracy: 0.7298 - val_loss: 0.1477 - val_accuracy: 0.6862\n",
            "Epoch 67/160\n",
            "2656/2656 [==============================] - 16s 6ms/step - loss: 0.1311 - accuracy: 0.7308 - val_loss: 0.1479 - val_accuracy: 0.6879\n",
            "Epoch 68/160\n",
            "2656/2656 [==============================] - 16s 6ms/step - loss: 0.1303 - accuracy: 0.7341 - val_loss: 0.1480 - val_accuracy: 0.6880\n",
            "Epoch 69/160\n",
            "2656/2656 [==============================] - 16s 6ms/step - loss: 0.1292 - accuracy: 0.7374 - val_loss: 0.1478 - val_accuracy: 0.6884\n",
            "Epoch 70/160\n",
            "2656/2656 [==============================] - 16s 6ms/step - loss: 0.1298 - accuracy: 0.7341 - val_loss: 0.1480 - val_accuracy: 0.6902\n",
            "Epoch 71/160\n",
            "2656/2656 [==============================] - 16s 6ms/step - loss: 0.1297 - accuracy: 0.7334 - val_loss: 0.1488 - val_accuracy: 0.6858\n",
            "Epoch 72/160\n",
            "2656/2656 [==============================] - 16s 6ms/step - loss: 0.1297 - accuracy: 0.7322 - val_loss: 0.1494 - val_accuracy: 0.6820\n",
            "Epoch 73/160\n",
            "2656/2656 [==============================] - 16s 6ms/step - loss: 0.1268 - accuracy: 0.7416 - val_loss: 0.1486 - val_accuracy: 0.6903\n",
            "Epoch 74/160\n",
            "2656/2656 [==============================] - 16s 6ms/step - loss: 0.1273 - accuracy: 0.7390 - val_loss: 0.1478 - val_accuracy: 0.6915\n",
            "Epoch 75/160\n",
            "2656/2656 [==============================] - 16s 6ms/step - loss: 0.1274 - accuracy: 0.7379 - val_loss: 0.1487 - val_accuracy: 0.6904\n",
            "Epoch 76/160\n",
            "2656/2656 [==============================] - 16s 6ms/step - loss: 0.1263 - accuracy: 0.7415 - val_loss: 0.1480 - val_accuracy: 0.6876\n",
            "Epoch 77/160\n",
            "2656/2656 [==============================] - 17s 6ms/step - loss: 0.1260 - accuracy: 0.7426 - val_loss: 0.1493 - val_accuracy: 0.6900\n",
            "Epoch 78/160\n",
            "2656/2656 [==============================] - 16s 6ms/step - loss: 0.1252 - accuracy: 0.7465 - val_loss: 0.1488 - val_accuracy: 0.6880\n",
            "Epoch 79/160\n",
            "2656/2656 [==============================] - 16s 6ms/step - loss: 0.1257 - accuracy: 0.7442 - val_loss: 0.1489 - val_accuracy: 0.6862\n",
            "Epoch 80/160\n",
            "2656/2656 [==============================] - 16s 6ms/step - loss: 0.1235 - accuracy: 0.7496 - val_loss: 0.1504 - val_accuracy: 0.6892\n",
            "Epoch 81/160\n",
            "2656/2656 [==============================] - 16s 6ms/step - loss: 0.1237 - accuracy: 0.7434 - val_loss: 0.1482 - val_accuracy: 0.6895\n",
            "Epoch 82/160\n",
            "2656/2656 [==============================] - 17s 6ms/step - loss: 0.1242 - accuracy: 0.7470 - val_loss: 0.1485 - val_accuracy: 0.6903\n",
            "Epoch 83/160\n",
            "2656/2656 [==============================] - 17s 6ms/step - loss: 0.1238 - accuracy: 0.7482 - val_loss: 0.1487 - val_accuracy: 0.6935\n",
            "Epoch 84/160\n",
            "2656/2656 [==============================] - 16s 6ms/step - loss: 0.1241 - accuracy: 0.7451 - val_loss: 0.1479 - val_accuracy: 0.6918\n",
            "Epoch 85/160\n",
            "2656/2656 [==============================] - 17s 6ms/step - loss: 0.1220 - accuracy: 0.7506 - val_loss: 0.1494 - val_accuracy: 0.6876\n",
            "Epoch 86/160\n",
            "2656/2656 [==============================] - 16s 6ms/step - loss: 0.1226 - accuracy: 0.7489 - val_loss: 0.1495 - val_accuracy: 0.6840\n",
            "Epoch 87/160\n",
            "2656/2656 [==============================] - 17s 6ms/step - loss: 0.1224 - accuracy: 0.7504 - val_loss: 0.1504 - val_accuracy: 0.6876\n",
            "Epoch 88/160\n",
            "2656/2656 [==============================] - 16s 6ms/step - loss: 0.1214 - accuracy: 0.7534 - val_loss: 0.1495 - val_accuracy: 0.6916\n",
            "Epoch 89/160\n",
            "2656/2656 [==============================] - 17s 6ms/step - loss: 0.1206 - accuracy: 0.7529 - val_loss: 0.1502 - val_accuracy: 0.6875\n",
            "Epoch 90/160\n",
            "2656/2656 [==============================] - 16s 6ms/step - loss: 0.1205 - accuracy: 0.7582 - val_loss: 0.1494 - val_accuracy: 0.6858\n",
            "Epoch 91/160\n",
            "2656/2656 [==============================] - 16s 6ms/step - loss: 0.1201 - accuracy: 0.7581 - val_loss: 0.1500 - val_accuracy: 0.6851\n",
            "Epoch 92/160\n",
            "2656/2656 [==============================] - 16s 6ms/step - loss: 0.1198 - accuracy: 0.7573 - val_loss: 0.1502 - val_accuracy: 0.6863\n",
            "Epoch 93/160\n",
            "2656/2656 [==============================] - 16s 6ms/step - loss: 0.1196 - accuracy: 0.7582 - val_loss: 0.1498 - val_accuracy: 0.6888\n",
            "Epoch 94/160\n",
            "2656/2656 [==============================] - 16s 6ms/step - loss: 0.1200 - accuracy: 0.7529 - val_loss: 0.1509 - val_accuracy: 0.6872\n",
            "Epoch 95/160\n",
            "2656/2656 [==============================] - 16s 6ms/step - loss: 0.1206 - accuracy: 0.7538 - val_loss: 0.1505 - val_accuracy: 0.6882\n",
            "Epoch 96/160\n",
            "2656/2656 [==============================] - 16s 6ms/step - loss: 0.1183 - accuracy: 0.7575 - val_loss: 0.1511 - val_accuracy: 0.6903\n",
            "Epoch 97/160\n",
            "2656/2656 [==============================] - 16s 6ms/step - loss: 0.1180 - accuracy: 0.7585 - val_loss: 0.1505 - val_accuracy: 0.6931\n",
            "Epoch 98/160\n",
            "2656/2656 [==============================] - 16s 6ms/step - loss: 0.1168 - accuracy: 0.7614 - val_loss: 0.1504 - val_accuracy: 0.6874\n",
            "Epoch 99/160\n",
            "2656/2656 [==============================] - 17s 6ms/step - loss: 0.1187 - accuracy: 0.7612 - val_loss: 0.1501 - val_accuracy: 0.6891\n",
            "Epoch 100/160\n",
            "2656/2656 [==============================] - 16s 6ms/step - loss: 0.1182 - accuracy: 0.7609 - val_loss: 0.1509 - val_accuracy: 0.6891\n",
            "Epoch 101/160\n",
            "2656/2656 [==============================] - 16s 6ms/step - loss: 0.1163 - accuracy: 0.7641 - val_loss: 0.1518 - val_accuracy: 0.6878\n",
            "Epoch 102/160\n",
            "2656/2656 [==============================] - 16s 6ms/step - loss: 0.1182 - accuracy: 0.7617 - val_loss: 0.1518 - val_accuracy: 0.6887\n",
            "Epoch 103/160\n",
            "2656/2656 [==============================] - 16s 6ms/step - loss: 0.1166 - accuracy: 0.7641 - val_loss: 0.1515 - val_accuracy: 0.6939\n",
            "Epoch 104/160\n",
            "2656/2656 [==============================] - 16s 6ms/step - loss: 0.1155 - accuracy: 0.7635 - val_loss: 0.1519 - val_accuracy: 0.6879\n",
            "Epoch 105/160\n",
            "2656/2656 [==============================] - 16s 6ms/step - loss: 0.1156 - accuracy: 0.7630 - val_loss: 0.1517 - val_accuracy: 0.6855\n",
            "Epoch 106/160\n",
            "2656/2656 [==============================] - 16s 6ms/step - loss: 0.1154 - accuracy: 0.7665 - val_loss: 0.1517 - val_accuracy: 0.6886\n",
            "Epoch 107/160\n",
            "2656/2656 [==============================] - 16s 6ms/step - loss: 0.1158 - accuracy: 0.7661 - val_loss: 0.1522 - val_accuracy: 0.6892\n",
            "Epoch 108/160\n",
            "2656/2656 [==============================] - 16s 6ms/step - loss: 0.1133 - accuracy: 0.7731 - val_loss: 0.1533 - val_accuracy: 0.6850\n",
            "Epoch 109/160\n",
            "2656/2656 [==============================] - 16s 6ms/step - loss: 0.1134 - accuracy: 0.7697 - val_loss: 0.1525 - val_accuracy: 0.6854\n",
            "Epoch 110/160\n",
            "2656/2656 [==============================] - 16s 6ms/step - loss: 0.1124 - accuracy: 0.7739 - val_loss: 0.1534 - val_accuracy: 0.6854\n",
            "Epoch 111/160\n",
            "2656/2656 [==============================] - 16s 6ms/step - loss: 0.1133 - accuracy: 0.7701 - val_loss: 0.1534 - val_accuracy: 0.6858\n",
            "Epoch 112/160\n",
            "2656/2656 [==============================] - 16s 6ms/step - loss: 0.1129 - accuracy: 0.7697 - val_loss: 0.1525 - val_accuracy: 0.6874\n",
            "Epoch 113/160\n",
            "2656/2656 [==============================] - 16s 6ms/step - loss: 0.1132 - accuracy: 0.7706 - val_loss: 0.1537 - val_accuracy: 0.6860\n",
            "Epoch 114/160\n",
            "2656/2656 [==============================] - 16s 6ms/step - loss: 0.1126 - accuracy: 0.7706 - val_loss: 0.1539 - val_accuracy: 0.6904\n",
            "Epoch 115/160\n",
            "2656/2656 [==============================] - 16s 6ms/step - loss: 0.1133 - accuracy: 0.7716 - val_loss: 0.1529 - val_accuracy: 0.6880\n",
            "Epoch 116/160\n",
            "2656/2656 [==============================] - 16s 6ms/step - loss: 0.1130 - accuracy: 0.7740 - val_loss: 0.1551 - val_accuracy: 0.6835\n",
            "Epoch 117/160\n",
            "2656/2656 [==============================] - 16s 6ms/step - loss: 0.1125 - accuracy: 0.7746 - val_loss: 0.1542 - val_accuracy: 0.6908\n",
            "Epoch 118/160\n",
            "2656/2656 [==============================] - 16s 6ms/step - loss: 0.1127 - accuracy: 0.7727 - val_loss: 0.1537 - val_accuracy: 0.6872\n",
            "Epoch 119/160\n",
            "2656/2656 [==============================] - 16s 6ms/step - loss: 0.1119 - accuracy: 0.7755 - val_loss: 0.1546 - val_accuracy: 0.6916\n",
            "Epoch 120/160\n",
            "2656/2656 [==============================] - 16s 6ms/step - loss: 0.1106 - accuracy: 0.7782 - val_loss: 0.1542 - val_accuracy: 0.6866\n",
            "Epoch 121/160\n",
            "2656/2656 [==============================] - 16s 6ms/step - loss: 0.1122 - accuracy: 0.7729 - val_loss: 0.1536 - val_accuracy: 0.6920\n",
            "Epoch 122/160\n",
            "2656/2656 [==============================] - 16s 6ms/step - loss: 0.1118 - accuracy: 0.7751 - val_loss: 0.1543 - val_accuracy: 0.6879\n",
            "Epoch 123/160\n",
            "2656/2656 [==============================] - 16s 6ms/step - loss: 0.1094 - accuracy: 0.7806 - val_loss: 0.1538 - val_accuracy: 0.6888\n",
            "Epoch 124/160\n",
            "2656/2656 [==============================] - 16s 6ms/step - loss: 0.1109 - accuracy: 0.7790 - val_loss: 0.1557 - val_accuracy: 0.6870\n",
            "Epoch 125/160\n",
            "2656/2656 [==============================] - 16s 6ms/step - loss: 0.1103 - accuracy: 0.7776 - val_loss: 0.1542 - val_accuracy: 0.6911\n",
            "Epoch 126/160\n",
            "2656/2656 [==============================] - 17s 6ms/step - loss: 0.1098 - accuracy: 0.7823 - val_loss: 0.1548 - val_accuracy: 0.6899\n",
            "Epoch 127/160\n",
            "2656/2656 [==============================] - 16s 6ms/step - loss: 0.1089 - accuracy: 0.7817 - val_loss: 0.1550 - val_accuracy: 0.6878\n",
            "Epoch 128/160\n",
            "2656/2656 [==============================] - 16s 6ms/step - loss: 0.1076 - accuracy: 0.7845 - val_loss: 0.1570 - val_accuracy: 0.6840\n",
            "Epoch 129/160\n",
            "2656/2656 [==============================] - 16s 6ms/step - loss: 0.1079 - accuracy: 0.7834 - val_loss: 0.1548 - val_accuracy: 0.6906\n",
            "Epoch 130/160\n",
            "2656/2656 [==============================] - 16s 6ms/step - loss: 0.1084 - accuracy: 0.7836 - val_loss: 0.1554 - val_accuracy: 0.6899\n",
            "Epoch 131/160\n",
            "2656/2656 [==============================] - 16s 6ms/step - loss: 0.1091 - accuracy: 0.7829 - val_loss: 0.1554 - val_accuracy: 0.6866\n",
            "Epoch 132/160\n",
            "2656/2656 [==============================] - 16s 6ms/step - loss: 0.1084 - accuracy: 0.7821 - val_loss: 0.1559 - val_accuracy: 0.6868\n",
            "Epoch 133/160\n",
            "2656/2656 [==============================] - 16s 6ms/step - loss: 0.1076 - accuracy: 0.7856 - val_loss: 0.1561 - val_accuracy: 0.6838\n",
            "Epoch 134/160\n",
            "2656/2656 [==============================] - 16s 6ms/step - loss: 0.1077 - accuracy: 0.7826 - val_loss: 0.1577 - val_accuracy: 0.6874\n",
            "Epoch 135/160\n",
            "2656/2656 [==============================] - 16s 6ms/step - loss: 0.1077 - accuracy: 0.7844 - val_loss: 0.1572 - val_accuracy: 0.6891\n",
            "Epoch 136/160\n",
            "2656/2656 [==============================] - 16s 6ms/step - loss: 0.1066 - accuracy: 0.7874 - val_loss: 0.1570 - val_accuracy: 0.6875\n",
            "Epoch 137/160\n",
            "2656/2656 [==============================] - 16s 6ms/step - loss: 0.1064 - accuracy: 0.7889 - val_loss: 0.1578 - val_accuracy: 0.6871\n",
            "Epoch 138/160\n",
            "2656/2656 [==============================] - 16s 6ms/step - loss: 0.1071 - accuracy: 0.7872 - val_loss: 0.1586 - val_accuracy: 0.6846\n",
            "Epoch 139/160\n",
            "2656/2656 [==============================] - 16s 6ms/step - loss: 0.1068 - accuracy: 0.7891 - val_loss: 0.1571 - val_accuracy: 0.6871\n",
            "Epoch 140/160\n",
            "2656/2656 [==============================] - 16s 6ms/step - loss: 0.1063 - accuracy: 0.7885 - val_loss: 0.1587 - val_accuracy: 0.6883\n",
            "Epoch 141/160\n",
            "2656/2656 [==============================] - 16s 6ms/step - loss: 0.1059 - accuracy: 0.7873 - val_loss: 0.1577 - val_accuracy: 0.6900\n",
            "Epoch 142/160\n",
            "2656/2656 [==============================] - 16s 6ms/step - loss: 0.1049 - accuracy: 0.7927 - val_loss: 0.1586 - val_accuracy: 0.6887\n",
            "Epoch 143/160\n",
            "2656/2656 [==============================] - 16s 6ms/step - loss: 0.1057 - accuracy: 0.7899 - val_loss: 0.1588 - val_accuracy: 0.6860\n",
            "Epoch 144/160\n",
            "2656/2656 [==============================] - 16s 6ms/step - loss: 0.1038 - accuracy: 0.7928 - val_loss: 0.1590 - val_accuracy: 0.6802\n",
            "Epoch 145/160\n",
            "2656/2656 [==============================] - 16s 6ms/step - loss: 0.1048 - accuracy: 0.7911 - val_loss: 0.1600 - val_accuracy: 0.6872\n",
            "Epoch 146/160\n",
            "2656/2656 [==============================] - 16s 6ms/step - loss: 0.1056 - accuracy: 0.7875 - val_loss: 0.1597 - val_accuracy: 0.6855\n",
            "Epoch 147/160\n",
            "2656/2656 [==============================] - 16s 6ms/step - loss: 0.1048 - accuracy: 0.7927 - val_loss: 0.1580 - val_accuracy: 0.6918\n",
            "Epoch 148/160\n",
            "2656/2656 [==============================] - 16s 6ms/step - loss: 0.1056 - accuracy: 0.7918 - val_loss: 0.1604 - val_accuracy: 0.6898\n",
            "Epoch 149/160\n",
            "2656/2656 [==============================] - 16s 6ms/step - loss: 0.1026 - accuracy: 0.7938 - val_loss: 0.1575 - val_accuracy: 0.6907\n",
            "Epoch 150/160\n",
            "2656/2656 [==============================] - 16s 6ms/step - loss: 0.1050 - accuracy: 0.7908 - val_loss: 0.1614 - val_accuracy: 0.6866\n",
            "Epoch 151/160\n",
            "2656/2656 [==============================] - 16s 6ms/step - loss: 0.1043 - accuracy: 0.7929 - val_loss: 0.1600 - val_accuracy: 0.6842\n",
            "Epoch 152/160\n",
            "2656/2656 [==============================] - 16s 6ms/step - loss: 0.1027 - accuracy: 0.7958 - val_loss: 0.1589 - val_accuracy: 0.6828\n",
            "Epoch 153/160\n",
            "2656/2656 [==============================] - 16s 6ms/step - loss: 0.1043 - accuracy: 0.7902 - val_loss: 0.1610 - val_accuracy: 0.6847\n",
            "Epoch 154/160\n",
            "2656/2656 [==============================] - 16s 6ms/step - loss: 0.1019 - accuracy: 0.7963 - val_loss: 0.1612 - val_accuracy: 0.6834\n",
            "Epoch 155/160\n",
            "2656/2656 [==============================] - 16s 6ms/step - loss: 0.1028 - accuracy: 0.7974 - val_loss: 0.1610 - val_accuracy: 0.6882\n",
            "Epoch 156/160\n",
            "2656/2656 [==============================] - 16s 6ms/step - loss: 0.1024 - accuracy: 0.7953 - val_loss: 0.1616 - val_accuracy: 0.6867\n",
            "Epoch 157/160\n",
            "2656/2656 [==============================] - 16s 6ms/step - loss: 0.1029 - accuracy: 0.7924 - val_loss: 0.1604 - val_accuracy: 0.6854\n",
            "Epoch 158/160\n",
            "2656/2656 [==============================] - 16s 6ms/step - loss: 0.1015 - accuracy: 0.7986 - val_loss: 0.1603 - val_accuracy: 0.6922\n",
            "Epoch 159/160\n",
            "2656/2656 [==============================] - 16s 6ms/step - loss: 0.1018 - accuracy: 0.7985 - val_loss: 0.1603 - val_accuracy: 0.6866\n",
            "Epoch 160/160\n",
            "2656/2656 [==============================] - 16s 6ms/step - loss: 0.1013 - accuracy: 0.7970 - val_loss: 0.1609 - val_accuracy: 0.6880\n"
          ],
          "name": "stdout"
        }
      ]
    },
    {
      "cell_type": "code",
      "metadata": {
        "colab": {
          "base_uri": "https://localhost:8080/",
          "height": 370
        },
        "id": "T27ZhHdnyaAF",
        "outputId": "6a9a83c1-adad-49d6-8111-f9ea3f19b3f8"
      },
      "source": [
        "f, (ax1, ax2) = plt.subplots(1, 2, figsize=(15, 5))\n",
        "t = f.suptitle('Deep Neural Net Performance', fontsize=12)\n",
        "f.subplots_adjust(top=0.85, wspace=0.3)\n",
        "\n",
        "epochs = list(range(1,EPOCHS+1))\n",
        "ax1.plot(epochs, history.history['accuracy'], label='Train Accuracy')\n",
        "ax1.plot(epochs, history.history['val_accuracy'], label='Validation Accuracy')\n",
        "ax1.set_xticks(epochs)\n",
        "ax1.set_ylabel('Accuracy Value')\n",
        "ax1.set_xlabel('Epoch')\n",
        "ax1.set_title('Accuracy')\n",
        "l1 = ax1.legend(loc=\"best\")\n",
        "\n",
        "ax2.plot(epochs, history.history['loss'], label='Train Loss')\n",
        "ax2.plot(epochs, history.history['val_loss'], label='Validation Loss')\n",
        "ax2.set_xticks(epochs)\n",
        "ax2.set_ylabel('Loss Value')\n",
        "ax2.set_xlabel('Epoch')\n",
        "ax2.set_title('Loss')\n",
        "l2 = ax2.legend(loc=\"best\")"
      ],
      "execution_count": 18,
      "outputs": [
        {
          "output_type": "display_data",
          "data": {
            "image/png": "[encoded data removed]",
            "text/plain": [
              "<Figure size 1080x360 with 2 Axes>"
            ]
          },
          "metadata": {
            "tags": [],
            "needs_background": "light"
          }
        }
      ]
    },
    {
      "cell_type": "code",
      "metadata": {
        "colab": {
          "base_uri": "https://localhost:8080/"
        },
        "id": "NPbFcUZTE9Df",
        "outputId": "b9dcf8e9-dd91-44b7-9e1b-778e57268f61"
      },
      "source": [
        "predictions = model.predict(X_test/255.)\n",
        "predictions.shape"
      ],
      "execution_count": 30,
      "outputs": [
        {
          "output_type": "execute_result",
          "data": {
            "text/plain": [
              "(10000, 10)"
            ]
          },
          "metadata": {
            "tags": []
          },
          "execution_count": 30
        }
      ]
    },
    {
      "cell_type": "code",
      "metadata": {
        "colab": {
          "base_uri": "https://localhost:8080/"
        },
        "id": "StBQBH4qk0Uq",
        "outputId": "f74654a9-e457-4ee4-fc7b-2a89c395288f"
      },
      "source": [
        "# top n accuracy\n",
        "\n",
        "# n = 1\n",
        "# topn = np.argsort(predictions, axis = 1)[:,-n:]\n",
        "# np.mean(np.array([1 if y_test[k] in topn[k] else 0 for k in range(len(topn))]))\n",
        "\n",
        "n_list=[1,2,3,4,5]\n",
        "for i in n_list:\n",
        "  topn = np.argsort(predictions, axis = 1)[:,-i:]\n",
        "  acc = np.mean(np.array([1 if y_test[k] in topn[k] else 0 for k in range(len(topn))]))\n",
        "  print ('Top ' , i , ' accuracy is ', acc)\n"
      ],
      "execution_count": 31,
      "outputs": [
        {
          "output_type": "stream",
          "text": [
            "Top  1  accuracy is  0.6912\n",
            "Top  2  accuracy is  0.8493\n",
            "Top  3  accuracy is  0.9139\n",
            "Top  4  accuracy is  0.9501\n",
            "Top  5  accuracy is  0.9723\n"
          ],
          "name": "stdout"
        }
      ]
    },
    {
      "cell_type": "code",
      "metadata": {
        "id": "5r97a3k6FCzZ"
      },
      "source": [
        "test_labels = list(y_test.squeeze())\n",
        "predictions = list(predictions.argmax(axis=1))"
      ],
      "execution_count": 32,
      "outputs": []
    },
    {
      "cell_type": "code",
      "metadata": {
        "id": "Mhzpb3vWFgUr"
      },
      "source": [
        "\n",
        "def get_metrics(true_labels, predicted_labels):\n",
        "  print('Accuracy:', np.round(metrics.accuracy_score(true_labels, predicted_labels),4))\n",
        "  print('Precision:', np.round(metrics.precision_score(true_labels, predicted_labels,average='weighted'),4))\n",
        "  print('Recall:', np.round(metrics.recall_score(true_labels, predicted_labels,average='weighted'),4))\n",
        "  print('F1 Score:', np.round(metrics.f1_score(true_labels, predicted_labels,average='weighted'),4))\n",
        "                        "
      ],
      "execution_count": 33,
      "outputs": []
    },
    {
      "cell_type": "code",
      "metadata": {
        "colab": {
          "base_uri": "https://localhost:8080/"
        },
        "id": "TwXFK28cEKtE",
        "outputId": "80364ec9-c826-4d93-d47e-161b05b28be0"
      },
      "source": [
        "\n",
        "get_metrics(true_labels=y_test,  predicted_labels=predictions)"
      ],
      "execution_count": 34,
      "outputs": [
        {
          "output_type": "stream",
          "text": [
            "Accuracy: 0.6912\n",
            "Precision: 0.6902\n",
            "Recall: 0.6912\n",
            "F1 Score: 0.6904\n"
          ],
          "name": "stdout"
        }
      ]
    },
    {
      "cell_type": "code",
      "metadata": {
        "id": "9_govUXuDqo1"
      },
      "source": [
        "label_dict = {0:'airplane',\n",
        "             1:'automobile',\n",
        "             2:'bird',\n",
        "             3:'cat',\n",
        "             4:'deer',\n",
        "             5:'dog',\n",
        "             6:'frog',\n",
        "             7:'horse',\n",
        "             8:'ship',\n",
        "             9:'truck'}"
      ],
      "execution_count": 35,
      "outputs": []
    },
    {
      "cell_type": "code",
      "metadata": {
        "id": "A8ddQLzpGpJW",
        "colab": {
          "base_uri": "https://localhost:8080/"
        },
        "outputId": "8e873174-1ecd-43f2-ec15-b9be2776b036"
      },
      "source": [
        "from google.colab import drive\n",
        "drive.mount('/content/drive',force_remount=True)"
      ],
      "execution_count": 36,
      "outputs": [
        {
          "output_type": "stream",
          "text": [
            "Mounted at /content/drive\n"
          ],
          "name": "stdout"
        }
      ]
    },
    {
      "cell_type": "code",
      "metadata": {
        "colab": {
          "base_uri": "https://localhost:8080/"
        },
        "id": "M7t52PD7Duos",
        "outputId": "c8008f48-c376-46f9-f1b7-973a660ad042"
      },
      "source": [
        " !ls /content/drive/My\\ Drive/ML_models"
      ],
      "execution_count": 37,
      "outputs": [
        {
          "output_type": "stream",
          "text": [
            "example  vggmodel_4.h5\tvggmodel.h5  vggmodel_v2.h5  vggmodel_v4.h5\n"
          ],
          "name": "stdout"
        }
      ]
    },
    {
      "cell_type": "code",
      "metadata": {
        "id": "dlAjHlHiGBFf"
      },
      "source": [
        "model.save('/content/drive/My Drive/ML_models/vgg16_79.h5')"
      ],
      "execution_count": 38,
      "outputs": []
    },
    {
      "cell_type": "code",
      "metadata": {
        "id": "tJRP_0wkblo2",
        "colab": {
          "base_uri": "https://localhost:8080/"
        },
        "outputId": "4c237774-d32a-4861-ea65-7762f6d37b13"
      },
      "source": [
        " !ls /content/drive/My\\ Drive/ML_models"
      ],
      "execution_count": 39,
      "outputs": [
        {
          "output_type": "stream",
          "text": [
            "example      vggmodel_4.h5  vggmodel_v2.h5\n",
            "vgg16_79.h5  vggmodel.h5    vggmodel_v4.h5\n"
          ],
          "name": "stdout"
        }
      ]
    },
    {
      "cell_type": "code",
      "metadata": {
        "id": "6RZzH69O4_5B"
      },
      "source": [
        ""
      ],
      "execution_count": null,
      "outputs": []
    }
  ]
}