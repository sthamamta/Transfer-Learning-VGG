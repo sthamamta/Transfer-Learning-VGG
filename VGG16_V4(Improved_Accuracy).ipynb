{
  "nbformat": 4,
  "nbformat_minor": 0,
  "metadata": {
    "accelerator": "GPU",
    "colab": {
      "name": "VGG16_V4(Improved Accuracy).ipynb",
      "provenance": [],
      "collapsed_sections": [],
      "authorship_tag": "ABX9TyNWQj2zNRcFhxtfVxhkzIy5",
      "include_colab_link": true
    },
    "kernelspec": {
      "display_name": "Python 3",
      "name": "python3"
    },
    "language_info": {
      "name": "python"
    }
  },
  "cells": [
    {
      "cell_type": "markdown",
      "metadata": {
        "id": "view-in-github",
        "colab_type": "text"
      },
      "source": [
        "<a href=\"https://colab.research.google.com/github/sthamamta/Transfer-Learning-VGG/blob/main/VGG16_V4(Improved_Accuracy).ipynb\" target=\"_parent\"><img src=\"https://colab.research.google.com/assets/colab-badge.svg\" alt=\"Open In Colab\"/></a>"
      ]
    },
    {
      "cell_type": "code",
      "metadata": {
        "id": "g97rkOEruCR-"
      },
      "source": [
        "import scipy as sp\n",
        "import numpy as np\n",
        "import pandas as pd\n",
        "from numpy.random import rand\n",
        "from sklearn import metrics\n",
        "pd.options.display.max_colwidth = 600\n",
        "\n",
        "from sklearn import preprocessing\n",
        "from sklearn.metrics import roc_curve, auc, precision_recall_curve\n",
        "from sklearn.model_selection import train_test_split\n",
        "\n",
        "import matplotlib.pyplot as plt\n",
        "\n",
        "plt.rcParams.update(params)\n",
        "%matplotlib inline\n",
        "\n",
        "import warnings\n",
        "warnings.filterwarnings('ignore')"
      ],
      "execution_count": null,
      "outputs": []
    },
    {
      "cell_type": "code",
      "metadata": {
        "id": "XLFXwWhFunQB"
      },
      "source": [
        "import tensorflow as tf\n",
        "from keras import callbacks\n",
        "from keras import optimizers\n",
        "from keras.datasets import cifar10\n",
        "from keras.models import Model\n",
        "from keras.applications import vgg16 as vgg\n",
        "from keras.layers import Dropout, Flatten, Dense, GlobalAveragePooling2D,BatchNormalization\n",
        "from keras.preprocessing.image import ImageDataGenerator\n",
        "from keras.utils import np_utils\n"
      ],
      "execution_count": null,
      "outputs": []
    },
    {
      "cell_type": "code",
      "metadata": {
        "id": "IJyYbjW3uphf"
      },
      "source": [
        "BATCH_SIZE = 16\n",
        "EPOCHS = 160\n",
        "NUM_CLASSES = 10\n",
        "LEARNING_RATE = 1e-4\n",
        "MOMENTUM = 0.9"
      ],
      "execution_count": null,
      "outputs": []
    },
    {
      "cell_type": "code",
      "metadata": {
        "colab": {
          "base_uri": "https://localhost:8080/"
        },
        "id": "fByysIS9uGJi",
        "outputId": "2565ef96-fd7a-4a5d-b737-12192e9d7c46"
      },
      "source": [
        "(X_train, y_train), (X_test, y_test) = cifar10.load_data()"
      ],
      "execution_count": null,
      "outputs": [
        {
          "output_type": "stream",
          "text": [
            "Downloading data from https://www.cs.toronto.edu/~kriz/cifar-10-python.tar.gz\n",
            "170500096/170498071 [==============================] - 4s 0us/step\n",
            "170508288/170498071 [==============================] - 4s 0us/step\n"
          ],
          "name": "stdout"
        }
      ]
    },
    {
      "cell_type": "code",
      "metadata": {
        "id": "GlUAr1shvYJP"
      },
      "source": [
        "# Split training dataset in train and validation sets\n",
        "X_train, X_val, y_train, y_val = train_test_split(X_train, \n",
        "                                                  y_train, \n",
        "                                                  test_size=0.15, \n",
        "                                                  stratify=np.array(y_train), \n",
        "                                                  random_state=42)"
      ],
      "execution_count": null,
      "outputs": []
    },
    {
      "cell_type": "code",
      "metadata": {
        "id": "fWrQqYHCvbDD"
      },
      "source": [
        "# Transforming target variable/labels into one hot encoded form\n",
        "Y_train = np_utils.to_categorical(y_train, NUM_CLASSES)\n",
        "Y_val = np_utils.to_categorical(y_val, NUM_CLASSES)\n",
        "Y_test = np_utils.to_categorical(y_test, NUM_CLASSES)"
      ],
      "execution_count": null,
      "outputs": []
    },
    {
      "cell_type": "code",
      "metadata": {
        "id": "_NGW1kQkvjBi"
      },
      "source": [
        "\n",
        "from skimage.transform import resize\n",
        "from skimage import data\n",
        "\n",
        "X_train = np.array([resize(x, (48,48)) for x in X_train])\n",
        "\n",
        "# numpy.array(Image.fromarray(arr).resize())\n",
        "X_val = np.array([resize(x, (48,48)) for x in X_val])\n",
        "X_test = np.array([resize(x, (48,48)) for x in X_test])"
      ],
      "execution_count": null,
      "outputs": []
    },
    {
      "cell_type": "code",
      "metadata": {
        "colab": {
          "base_uri": "https://localhost:8080/"
        },
        "id": "mSynyHOjvvVd",
        "outputId": "69daefa6-0586-445f-93fb-9fe35cee3ba4"
      },
      "source": [
        "base_model = vgg.VGG16(weights='imagenet', \n",
        "                       include_top=False, \n",
        "                       input_shape=(48, 48, 3))"
      ],
      "execution_count": null,
      "outputs": [
        {
          "output_type": "stream",
          "text": [
            "Downloading data from https://storage.googleapis.com/tensorflow/keras-applications/vgg16/vgg16_weights_tf_dim_ordering_tf_kernels_notop.h5\n",
            "58892288/58889256 [==============================] - 1s 0us/step\n",
            "58900480/58889256 [==============================] - 1s 0us/step\n"
          ],
          "name": "stdout"
        }
      ]
    },
    {
      "cell_type": "code",
      "metadata": {
        "id": "p-DIsFrfx_Qi"
      },
      "source": [
        "# Extract the last layer from third block of vgg16 model\n",
        "last = base_model.get_layer('block3_pool').output"
      ],
      "execution_count": null,
      "outputs": []
    },
    {
      "cell_type": "code",
      "metadata": {
        "id": "2OpGk3fdyB9A"
      },
      "source": [
        "# Add classification layers on top of it\n",
        "x = GlobalAveragePooling2D()(last)\n",
        "x= BatchNormalization()(x)\n",
        "x = Dense(256, activation='relu')(x)\n",
        "x = Dense(256, activation='relu')(x)\n",
        "x = Dropout(0.6)(x)\n",
        "pred = Dense(NUM_CLASSES, activation='softmax')(x)\n",
        "model = Model(base_model.input, pred)"
      ],
      "execution_count": null,
      "outputs": []
    },
    {
      "cell_type": "code",
      "metadata": {
        "id": "8SZCWR8xyEKC"
      },
      "source": [
        "for layer in base_model.layers:\n",
        "     layer.trainable = False"
      ],
      "execution_count": null,
      "outputs": []
    },
    {
      "cell_type": "code",
      "metadata": {
        "id": "A8xPJGfAyGF8"
      },
      "source": [
        "model.compile(loss='binary_crossentropy',\n",
        "              optimizer=optimizers.Adam(lr=LEARNING_RATE),\n",
        "              metrics=['accuracy'])"
      ],
      "execution_count": null,
      "outputs": []
    },
    {
      "cell_type": "code",
      "metadata": {
        "colab": {
          "base_uri": "https://localhost:8080/"
        },
        "id": "UorQogCRyIZ7",
        "outputId": "22bbc6f9-93d6-4802-f1f9-6162672aca60"
      },
      "source": [
        "model.summary()"
      ],
      "execution_count": null,
      "outputs": [
        {
          "output_type": "stream",
          "text": [
            "Model: \"model\"\n",
            "_________________________________________________________________\n",
            "Layer (type)                 Output Shape              Param #   \n",
            "=================================================================\n",
            "input_1 (InputLayer)         [(None, 48, 48, 3)]       0         \n",
            "_________________________________________________________________\n",
            "block1_conv1 (Conv2D)        (None, 48, 48, 64)        1792      \n",
            "_________________________________________________________________\n",
            "block1_conv2 (Conv2D)        (None, 48, 48, 64)        36928     \n",
            "_________________________________________________________________\n",
            "block1_pool (MaxPooling2D)   (None, 24, 24, 64)        0         \n",
            "_________________________________________________________________\n",
            "block2_conv1 (Conv2D)        (None, 24, 24, 128)       73856     \n",
            "_________________________________________________________________\n",
            "block2_conv2 (Conv2D)        (None, 24, 24, 128)       147584    \n",
            "_________________________________________________________________\n",
            "block2_pool (MaxPooling2D)   (None, 12, 12, 128)       0         \n",
            "_________________________________________________________________\n",
            "block3_conv1 (Conv2D)        (None, 12, 12, 256)       295168    \n",
            "_________________________________________________________________\n",
            "block3_conv2 (Conv2D)        (None, 12, 12, 256)       590080    \n",
            "_________________________________________________________________\n",
            "block3_conv3 (Conv2D)        (None, 12, 12, 256)       590080    \n",
            "_________________________________________________________________\n",
            "block3_pool (MaxPooling2D)   (None, 6, 6, 256)         0         \n",
            "_________________________________________________________________\n",
            "global_average_pooling2d (Gl (None, 256)               0         \n",
            "_________________________________________________________________\n",
            "batch_normalization (BatchNo (None, 256)               1024      \n",
            "_________________________________________________________________\n",
            "dense (Dense)                (None, 256)               65792     \n",
            "_________________________________________________________________\n",
            "dense_1 (Dense)              (None, 256)               65792     \n",
            "_________________________________________________________________\n",
            "dropout (Dropout)            (None, 256)               0         \n",
            "_________________________________________________________________\n",
            "dense_2 (Dense)              (None, 10)                2570      \n",
            "=================================================================\n",
            "Total params: 1,870,666\n",
            "Trainable params: 134,666\n",
            "Non-trainable params: 1,736,000\n",
            "_________________________________________________________________\n"
          ],
          "name": "stdout"
        }
      ]
    },
    {
      "cell_type": "code",
      "metadata": {
        "id": "NR9duPeCyKsf"
      },
      "source": [
        "# prepare data augmentation configuration\n",
        "train_datagen = ImageDataGenerator(\n",
        "    rescale=1. / 255,\n",
        "    horizontal_flip=False)"
      ],
      "execution_count": null,
      "outputs": []
    },
    {
      "cell_type": "code",
      "metadata": {
        "id": "HmSQuFuWyTIm"
      },
      "source": [
        "\n",
        "train_datagen.fit(X_train)\n",
        "train_generator = train_datagen.flow(X_train,\n",
        "                                     Y_train, \n",
        "                                     batch_size=BATCH_SIZE)"
      ],
      "execution_count": null,
      "outputs": []
    },
    {
      "cell_type": "code",
      "metadata": {
        "id": "BhBX7b5xyVY6"
      },
      "source": [
        "val_datagen = ImageDataGenerator(rescale=1. / 255,\n",
        "    horizontal_flip=False)\n",
        "\n",
        "val_datagen.fit(X_val)\n",
        "val_generator = val_datagen.flow(X_val,\n",
        "                                 Y_val,\n",
        "                                 batch_size=BATCH_SIZE)"
      ],
      "execution_count": null,
      "outputs": []
    },
    {
      "cell_type": "code",
      "metadata": {
        "colab": {
          "background_save": true,
          "base_uri": "https://localhost:8080/"
        },
        "id": "UFYja32VyXsW",
        "outputId": "0328f7eb-71cc-4cc0-9d07-c69e2f4bb399"
      },
      "source": [
        "train_steps_per_epoch = X_train.shape[0] // BATCH_SIZE\n",
        "val_steps_per_epoch = X_val.shape[0] // BATCH_SIZE\n",
        "\n",
        "history = model.fit_generator(train_generator,\n",
        "                              steps_per_epoch=train_steps_per_epoch,\n",
        "                              validation_data=val_generator,\n",
        "                              validation_steps=val_steps_per_epoch,\n",
        "                              epochs=EPOCHS,\n",
        "                              verbose=1)"
      ],
      "execution_count": null,
      "outputs": [
        {
          "output_type": "stream",
          "text": [
            "Epoch 1/160\n",
            "2656/2656 [==============================] - 59s 6ms/step - loss: 0.3602 - accuracy: 0.2265 - val_loss: 0.2329 - val_accuracy: 0.4790\n",
            "Epoch 2/160\n",
            "2656/2656 [==============================] - 16s 6ms/step - loss: 0.2478 - accuracy: 0.4298 - val_loss: 0.2121 - val_accuracy: 0.5290\n",
            "Epoch 3/160\n",
            "2656/2656 [==============================] - 16s 6ms/step - loss: 0.2295 - accuracy: 0.4813 - val_loss: 0.2009 - val_accuracy: 0.5542\n",
            "Epoch 4/160\n",
            "2656/2656 [==============================] - 16s 6ms/step - loss: 0.2192 - accuracy: 0.5098 - val_loss: 0.1937 - val_accuracy: 0.5716\n",
            "Epoch 5/160\n",
            "2656/2656 [==============================] - 16s 6ms/step - loss: 0.2100 - accuracy: 0.5323 - val_loss: 0.1882 - val_accuracy: 0.5856\n",
            "Epoch 6/160\n",
            "2656/2656 [==============================] - 16s 6ms/step - loss: 0.2046 - accuracy: 0.5453 - val_loss: 0.1840 - val_accuracy: 0.5903\n",
            "Epoch 7/160\n",
            "2656/2656 [==============================] - 16s 6ms/step - loss: 0.2012 - accuracy: 0.5540 - val_loss: 0.1805 - val_accuracy: 0.6027\n",
            "Epoch 8/160\n",
            "2656/2656 [==============================] - 16s 6ms/step - loss: 0.1946 - accuracy: 0.5717 - val_loss: 0.1770 - val_accuracy: 0.6116\n",
            "Epoch 9/160\n",
            "2656/2656 [==============================] - 16s 6ms/step - loss: 0.1929 - accuracy: 0.5824 - val_loss: 0.1742 - val_accuracy: 0.6193\n",
            "Epoch 10/160\n",
            "2656/2656 [==============================] - 16s 6ms/step - loss: 0.1891 - accuracy: 0.5897 - val_loss: 0.1724 - val_accuracy: 0.6241\n",
            "Epoch 11/160\n",
            "2656/2656 [==============================] - 16s 6ms/step - loss: 0.1860 - accuracy: 0.5918 - val_loss: 0.1696 - val_accuracy: 0.6319\n",
            "Epoch 12/160\n",
            "2656/2656 [==============================] - 16s 6ms/step - loss: 0.1834 - accuracy: 0.6005 - val_loss: 0.1676 - val_accuracy: 0.6397\n",
            "Epoch 13/160\n",
            "2656/2656 [==============================] - 16s 6ms/step - loss: 0.1810 - accuracy: 0.6080 - val_loss: 0.1661 - val_accuracy: 0.6398\n",
            "Epoch 14/160\n",
            "2656/2656 [==============================] - 16s 6ms/step - loss: 0.1793 - accuracy: 0.6157 - val_loss: 0.1644 - val_accuracy: 0.6462\n",
            "Epoch 15/160\n",
            "2656/2656 [==============================] - 16s 6ms/step - loss: 0.1782 - accuracy: 0.6176 - val_loss: 0.1632 - val_accuracy: 0.6444\n",
            "Epoch 16/160\n",
            "2656/2656 [==============================] - 16s 6ms/step - loss: 0.1768 - accuracy: 0.6184 - val_loss: 0.1619 - val_accuracy: 0.6505\n",
            "Epoch 17/160\n",
            "2656/2656 [==============================] - 16s 6ms/step - loss: 0.1741 - accuracy: 0.6272 - val_loss: 0.1606 - val_accuracy: 0.6478\n",
            "Epoch 18/160\n",
            "2656/2656 [==============================] - 16s 6ms/step - loss: 0.1722 - accuracy: 0.6308 - val_loss: 0.1600 - val_accuracy: 0.6520\n",
            "Epoch 19/160\n",
            "2656/2656 [==============================] - 16s 6ms/step - loss: 0.1695 - accuracy: 0.6359 - val_loss: 0.1582 - val_accuracy: 0.6572\n",
            "Epoch 20/160\n",
            "2656/2656 [==============================] - 16s 6ms/step - loss: 0.1696 - accuracy: 0.6345 - val_loss: 0.1580 - val_accuracy: 0.6573\n",
            "Epoch 21/160\n",
            "2656/2656 [==============================] - 16s 6ms/step - loss: 0.1671 - accuracy: 0.6456 - val_loss: 0.1564 - val_accuracy: 0.6624\n",
            "Epoch 22/160\n",
            "2656/2656 [==============================] - 16s 6ms/step - loss: 0.1663 - accuracy: 0.6454 - val_loss: 0.1555 - val_accuracy: 0.6664\n",
            "Epoch 23/160\n",
            "2656/2656 [==============================] - 16s 6ms/step - loss: 0.1651 - accuracy: 0.6443 - val_loss: 0.1547 - val_accuracy: 0.6620\n",
            "Epoch 24/160\n",
            "2656/2656 [==============================] - 16s 6ms/step - loss: 0.1644 - accuracy: 0.6482 - val_loss: 0.1544 - val_accuracy: 0.6683\n",
            "Epoch 25/160\n",
            "2656/2656 [==============================] - 16s 6ms/step - loss: 0.1629 - accuracy: 0.6500 - val_loss: 0.1541 - val_accuracy: 0.6649\n",
            "Epoch 26/160\n",
            "2656/2656 [==============================] - 16s 6ms/step - loss: 0.1609 - accuracy: 0.6549 - val_loss: 0.1537 - val_accuracy: 0.6704\n",
            "Epoch 27/160\n",
            "2656/2656 [==============================] - 16s 6ms/step - loss: 0.1594 - accuracy: 0.6611 - val_loss: 0.1527 - val_accuracy: 0.6672\n",
            "Epoch 28/160\n",
            "2656/2656 [==============================] - 16s 6ms/step - loss: 0.1590 - accuracy: 0.6628 - val_loss: 0.1520 - val_accuracy: 0.6725\n",
            "Epoch 29/160\n",
            "2656/2656 [==============================] - 16s 6ms/step - loss: 0.1582 - accuracy: 0.6677 - val_loss: 0.1514 - val_accuracy: 0.6711\n",
            "Epoch 30/160\n",
            "2656/2656 [==============================] - 16s 6ms/step - loss: 0.1577 - accuracy: 0.6666 - val_loss: 0.1514 - val_accuracy: 0.6724\n",
            "Epoch 31/160\n",
            "2656/2656 [==============================] - 16s 6ms/step - loss: 0.1556 - accuracy: 0.6728 - val_loss: 0.1506 - val_accuracy: 0.6735\n",
            "Epoch 32/160\n",
            "2656/2656 [==============================] - 16s 6ms/step - loss: 0.1552 - accuracy: 0.6741 - val_loss: 0.1504 - val_accuracy: 0.6725\n",
            "Epoch 33/160\n",
            "2656/2656 [==============================] - 16s 6ms/step - loss: 0.1549 - accuracy: 0.6721 - val_loss: 0.1501 - val_accuracy: 0.6735\n",
            "Epoch 34/160\n",
            "2656/2656 [==============================] - 16s 6ms/step - loss: 0.1528 - accuracy: 0.6763 - val_loss: 0.1494 - val_accuracy: 0.6743\n",
            "Epoch 35/160\n",
            "2656/2656 [==============================] - 16s 6ms/step - loss: 0.1518 - accuracy: 0.6798 - val_loss: 0.1492 - val_accuracy: 0.6760\n",
            "Epoch 36/160\n",
            "2656/2656 [==============================] - 16s 6ms/step - loss: 0.1500 - accuracy: 0.6854 - val_loss: 0.1486 - val_accuracy: 0.6783\n",
            "Epoch 37/160\n",
            "2656/2656 [==============================] - 16s 6ms/step - loss: 0.1507 - accuracy: 0.6815 - val_loss: 0.1492 - val_accuracy: 0.6755\n",
            "Epoch 38/160\n",
            "2656/2656 [==============================] - 16s 6ms/step - loss: 0.1491 - accuracy: 0.6858 - val_loss: 0.1483 - val_accuracy: 0.6768\n",
            "Epoch 39/160\n",
            "2656/2656 [==============================] - 16s 6ms/step - loss: 0.1489 - accuracy: 0.6861 - val_loss: 0.1476 - val_accuracy: 0.6779\n",
            "Epoch 40/160\n",
            "2656/2656 [==============================] - 16s 6ms/step - loss: 0.1481 - accuracy: 0.6846 - val_loss: 0.1480 - val_accuracy: 0.6806\n",
            "Epoch 41/160\n",
            "2656/2656 [==============================] - 16s 6ms/step - loss: 0.1466 - accuracy: 0.6938 - val_loss: 0.1478 - val_accuracy: 0.6822\n",
            "Epoch 42/160\n",
            "2656/2656 [==============================] - 16s 6ms/step - loss: 0.1466 - accuracy: 0.6935 - val_loss: 0.1484 - val_accuracy: 0.6783\n",
            "Epoch 43/160\n",
            "2656/2656 [==============================] - 16s 6ms/step - loss: 0.1439 - accuracy: 0.7012 - val_loss: 0.1476 - val_accuracy: 0.6827\n",
            "Epoch 44/160\n",
            "2656/2656 [==============================] - 16s 6ms/step - loss: 0.1451 - accuracy: 0.6950 - val_loss: 0.1474 - val_accuracy: 0.6791\n",
            "Epoch 45/160\n",
            "2656/2656 [==============================] - 16s 6ms/step - loss: 0.1445 - accuracy: 0.6953 - val_loss: 0.1472 - val_accuracy: 0.6819\n",
            "Epoch 46/160\n",
            "2656/2656 [==============================] - 16s 6ms/step - loss: 0.1419 - accuracy: 0.7039 - val_loss: 0.1470 - val_accuracy: 0.6840\n",
            "Epoch 47/160\n",
            "2656/2656 [==============================] - 16s 6ms/step - loss: 0.1438 - accuracy: 0.6996 - val_loss: 0.1477 - val_accuracy: 0.6796\n",
            "Epoch 48/160\n",
            "2656/2656 [==============================] - 16s 6ms/step - loss: 0.1419 - accuracy: 0.7020 - val_loss: 0.1467 - val_accuracy: 0.6855\n",
            "Epoch 49/160\n",
            "2656/2656 [==============================] - 16s 6ms/step - loss: 0.1411 - accuracy: 0.7082 - val_loss: 0.1467 - val_accuracy: 0.6838\n",
            "Epoch 50/160\n",
            "2656/2656 [==============================] - 16s 6ms/step - loss: 0.1410 - accuracy: 0.7028 - val_loss: 0.1459 - val_accuracy: 0.6832\n",
            "Epoch 51/160\n",
            "2656/2656 [==============================] - 16s 6ms/step - loss: 0.1402 - accuracy: 0.7092 - val_loss: 0.1466 - val_accuracy: 0.6872\n",
            "Epoch 52/160\n",
            "2656/2656 [==============================] - 16s 6ms/step - loss: 0.1388 - accuracy: 0.7103 - val_loss: 0.1464 - val_accuracy: 0.6884\n",
            "Epoch 53/160\n",
            "2656/2656 [==============================] - 16s 6ms/step - loss: 0.1405 - accuracy: 0.7060 - val_loss: 0.1461 - val_accuracy: 0.6815\n",
            "Epoch 54/160\n",
            "2656/2656 [==============================] - 16s 6ms/step - loss: 0.1386 - accuracy: 0.7122 - val_loss: 0.1465 - val_accuracy: 0.6863\n",
            "Epoch 55/160\n",
            "2656/2656 [==============================] - 16s 6ms/step - loss: 0.1375 - accuracy: 0.7142 - val_loss: 0.1457 - val_accuracy: 0.6855\n",
            "Epoch 56/160\n",
            "2656/2656 [==============================] - 16s 6ms/step - loss: 0.1389 - accuracy: 0.7124 - val_loss: 0.1458 - val_accuracy: 0.6848\n",
            "Epoch 57/160\n",
            "2656/2656 [==============================] - 16s 6ms/step - loss: 0.1363 - accuracy: 0.7178 - val_loss: 0.1457 - val_accuracy: 0.6903\n",
            "Epoch 58/160\n",
            "2656/2656 [==============================] - 16s 6ms/step - loss: 0.1377 - accuracy: 0.7167 - val_loss: 0.1467 - val_accuracy: 0.6851\n",
            "Epoch 59/160\n",
            "2656/2656 [==============================] - 16s 6ms/step - loss: 0.1359 - accuracy: 0.7192 - val_loss: 0.1465 - val_accuracy: 0.6862\n",
            "Epoch 60/160\n",
            "2656/2656 [==============================] - 16s 6ms/step - loss: 0.1347 - accuracy: 0.7211 - val_loss: 0.1464 - val_accuracy: 0.6874\n",
            "Epoch 61/160\n",
            "2656/2656 [==============================] - 16s 6ms/step - loss: 0.1363 - accuracy: 0.7160 - val_loss: 0.1461 - val_accuracy: 0.6851\n",
            "Epoch 62/160\n",
            "2656/2656 [==============================] - 16s 6ms/step - loss: 0.1336 - accuracy: 0.7244 - val_loss: 0.1479 - val_accuracy: 0.6826\n",
            "Epoch 63/160\n",
            "2656/2656 [==============================] - 16s 6ms/step - loss: 0.1336 - accuracy: 0.7234 - val_loss: 0.1456 - val_accuracy: 0.6908\n",
            "Epoch 64/160\n",
            "2656/2656 [==============================] - 16s 6ms/step - loss: 0.1329 - accuracy: 0.7250 - val_loss: 0.1464 - val_accuracy: 0.6882\n",
            "Epoch 65/160\n",
            "2656/2656 [==============================] - 16s 6ms/step - loss: 0.1319 - accuracy: 0.7261 - val_loss: 0.1476 - val_accuracy: 0.6850\n",
            "Epoch 66/160\n",
            "2656/2656 [==============================] - 16s 6ms/step - loss: 0.1326 - accuracy: 0.7268 - val_loss: 0.1460 - val_accuracy: 0.6900\n",
            "Epoch 67/160\n",
            "2656/2656 [==============================] - 16s 6ms/step - loss: 0.1317 - accuracy: 0.7292 - val_loss: 0.1464 - val_accuracy: 0.6883\n",
            "Epoch 68/160\n",
            "2656/2656 [==============================] - 16s 6ms/step - loss: 0.1302 - accuracy: 0.7297 - val_loss: 0.1462 - val_accuracy: 0.6876\n",
            "Epoch 69/160\n",
            "2656/2656 [==============================] - 16s 6ms/step - loss: 0.1291 - accuracy: 0.7330 - val_loss: 0.1464 - val_accuracy: 0.6880\n",
            "Epoch 70/160\n",
            "2656/2656 [==============================] - 16s 6ms/step - loss: 0.1304 - accuracy: 0.7300 - val_loss: 0.1459 - val_accuracy: 0.6919\n",
            "Epoch 71/160\n",
            "2656/2656 [==============================] - 16s 6ms/step - loss: 0.1284 - accuracy: 0.7376 - val_loss: 0.1464 - val_accuracy: 0.6919\n",
            "Epoch 72/160\n",
            "2656/2656 [==============================] - 16s 6ms/step - loss: 0.1290 - accuracy: 0.7355 - val_loss: 0.1457 - val_accuracy: 0.6958\n",
            "Epoch 73/160\n",
            "2656/2656 [==============================] - 16s 6ms/step - loss: 0.1279 - accuracy: 0.7413 - val_loss: 0.1466 - val_accuracy: 0.6951\n",
            "Epoch 74/160\n",
            "2656/2656 [==============================] - 16s 6ms/step - loss: 0.1274 - accuracy: 0.7403 - val_loss: 0.1477 - val_accuracy: 0.6903\n",
            "Epoch 75/160\n",
            "2656/2656 [==============================] - 16s 6ms/step - loss: 0.1284 - accuracy: 0.7355 - val_loss: 0.1473 - val_accuracy: 0.6919\n",
            "Epoch 76/160\n",
            "2656/2656 [==============================] - 16s 6ms/step - loss: 0.1277 - accuracy: 0.7369 - val_loss: 0.1477 - val_accuracy: 0.6890\n",
            "Epoch 77/160\n",
            "2656/2656 [==============================] - 16s 6ms/step - loss: 0.1268 - accuracy: 0.7400 - val_loss: 0.1476 - val_accuracy: 0.6875\n",
            "Epoch 78/160\n",
            "2656/2656 [==============================] - 16s 6ms/step - loss: 0.1261 - accuracy: 0.7424 - val_loss: 0.1482 - val_accuracy: 0.6890\n",
            "Epoch 79/160\n",
            "2656/2656 [==============================] - 16s 6ms/step - loss: 0.1250 - accuracy: 0.7434 - val_loss: 0.1477 - val_accuracy: 0.6915\n",
            "Epoch 80/160\n",
            "2656/2656 [==============================] - 16s 6ms/step - loss: 0.1267 - accuracy: 0.7420 - val_loss: 0.1475 - val_accuracy: 0.6904\n",
            "Epoch 81/160\n",
            "2656/2656 [==============================] - 16s 6ms/step - loss: 0.1246 - accuracy: 0.7485 - val_loss: 0.1476 - val_accuracy: 0.6912\n",
            "Epoch 82/160\n",
            "2656/2656 [==============================] - 16s 6ms/step - loss: 0.1235 - accuracy: 0.7476 - val_loss: 0.1483 - val_accuracy: 0.6920\n",
            "Epoch 83/160\n",
            "2656/2656 [==============================] - 16s 6ms/step - loss: 0.1226 - accuracy: 0.7495 - val_loss: 0.1484 - val_accuracy: 0.6931\n",
            "Epoch 84/160\n",
            "2656/2656 [==============================] - 16s 6ms/step - loss: 0.1222 - accuracy: 0.7512 - val_loss: 0.1470 - val_accuracy: 0.6907\n",
            "Epoch 85/160\n",
            "2656/2656 [==============================] - 16s 6ms/step - loss: 0.1235 - accuracy: 0.7445 - val_loss: 0.1484 - val_accuracy: 0.6890\n",
            "Epoch 86/160\n",
            "2656/2656 [==============================] - 16s 6ms/step - loss: 0.1227 - accuracy: 0.7513 - val_loss: 0.1476 - val_accuracy: 0.6939\n",
            "Epoch 87/160\n",
            "2656/2656 [==============================] - 16s 6ms/step - loss: 0.1218 - accuracy: 0.7527 - val_loss: 0.1490 - val_accuracy: 0.6886\n",
            "Epoch 88/160\n",
            "2656/2656 [==============================] - 16s 6ms/step - loss: 0.1205 - accuracy: 0.7552 - val_loss: 0.1488 - val_accuracy: 0.6924\n",
            "Epoch 89/160\n",
            "2656/2656 [==============================] - 16s 6ms/step - loss: 0.1229 - accuracy: 0.7511 - val_loss: 0.1495 - val_accuracy: 0.6903\n",
            "Epoch 90/160\n",
            "2656/2656 [==============================] - 16s 6ms/step - loss: 0.1210 - accuracy: 0.7488 - val_loss: 0.1488 - val_accuracy: 0.6920\n",
            "Epoch 91/160\n",
            "2656/2656 [==============================] - 16s 6ms/step - loss: 0.1192 - accuracy: 0.7607 - val_loss: 0.1495 - val_accuracy: 0.6890\n",
            "Epoch 92/160\n",
            "2656/2656 [==============================] - 16s 6ms/step - loss: 0.1200 - accuracy: 0.7563 - val_loss: 0.1497 - val_accuracy: 0.6899\n",
            "Epoch 93/160\n",
            "2656/2656 [==============================] - 16s 6ms/step - loss: 0.1196 - accuracy: 0.7549 - val_loss: 0.1507 - val_accuracy: 0.6840\n",
            "Epoch 94/160\n",
            "2656/2656 [==============================] - 16s 6ms/step - loss: 0.1196 - accuracy: 0.7595 - val_loss: 0.1501 - val_accuracy: 0.6912\n",
            "Epoch 95/160\n",
            "2656/2656 [==============================] - 16s 6ms/step - loss: 0.1207 - accuracy: 0.7555 - val_loss: 0.1501 - val_accuracy: 0.6923\n",
            "Epoch 96/160\n",
            "2656/2656 [==============================] - 16s 6ms/step - loss: 0.1185 - accuracy: 0.7639 - val_loss: 0.1498 - val_accuracy: 0.6946\n",
            "Epoch 97/160\n",
            "2656/2656 [==============================] - 16s 6ms/step - loss: 0.1192 - accuracy: 0.7580 - val_loss: 0.1506 - val_accuracy: 0.6900\n",
            "Epoch 98/160\n",
            "2656/2656 [==============================] - 16s 6ms/step - loss: 0.1180 - accuracy: 0.7609 - val_loss: 0.1504 - val_accuracy: 0.6872\n",
            "Epoch 99/160\n",
            "2656/2656 [==============================] - 16s 6ms/step - loss: 0.1168 - accuracy: 0.7616 - val_loss: 0.1507 - val_accuracy: 0.6903\n",
            "Epoch 100/160\n",
            "2656/2656 [==============================] - 16s 6ms/step - loss: 0.1166 - accuracy: 0.7641 - val_loss: 0.1505 - val_accuracy: 0.6855\n",
            "Epoch 101/160\n",
            "2656/2656 [==============================] - 16s 6ms/step - loss: 0.1179 - accuracy: 0.7662 - val_loss: 0.1502 - val_accuracy: 0.6906\n",
            "Epoch 102/160\n",
            "2656/2656 [==============================] - 16s 6ms/step - loss: 0.1151 - accuracy: 0.7673 - val_loss: 0.1513 - val_accuracy: 0.6895\n",
            "Epoch 103/160\n",
            "2656/2656 [==============================] - 16s 6ms/step - loss: 0.1164 - accuracy: 0.7653 - val_loss: 0.1505 - val_accuracy: 0.6899\n",
            "Epoch 104/160\n",
            "2656/2656 [==============================] - 16s 6ms/step - loss: 0.1159 - accuracy: 0.7644 - val_loss: 0.1503 - val_accuracy: 0.6918\n",
            "Epoch 105/160\n",
            "2656/2656 [==============================] - 16s 6ms/step - loss: 0.1161 - accuracy: 0.7634 - val_loss: 0.1506 - val_accuracy: 0.6887\n",
            "Epoch 106/160\n",
            "2656/2656 [==============================] - 16s 6ms/step - loss: 0.1153 - accuracy: 0.7711 - val_loss: 0.1517 - val_accuracy: 0.6899\n",
            "Epoch 107/160\n",
            "2656/2656 [==============================] - 16s 6ms/step - loss: 0.1151 - accuracy: 0.7641 - val_loss: 0.1503 - val_accuracy: 0.6868\n",
            "Epoch 108/160\n",
            "2656/2656 [==============================] - 16s 6ms/step - loss: 0.1155 - accuracy: 0.7679 - val_loss: 0.1515 - val_accuracy: 0.6919\n",
            "Epoch 109/160\n",
            "2656/2656 [==============================] - 16s 6ms/step - loss: 0.1149 - accuracy: 0.7696 - val_loss: 0.1504 - val_accuracy: 0.6915\n",
            "Epoch 110/160\n",
            "2656/2656 [==============================] - 16s 6ms/step - loss: 0.1135 - accuracy: 0.7692 - val_loss: 0.1522 - val_accuracy: 0.6848\n",
            "Epoch 111/160\n",
            "2656/2656 [==============================] - 16s 6ms/step - loss: 0.1143 - accuracy: 0.7729 - val_loss: 0.1512 - val_accuracy: 0.6887\n",
            "Epoch 112/160\n",
            "2656/2656 [==============================] - 16s 6ms/step - loss: 0.1134 - accuracy: 0.7717 - val_loss: 0.1523 - val_accuracy: 0.6891\n",
            "Epoch 113/160\n",
            "2656/2656 [==============================] - 16s 6ms/step - loss: 0.1141 - accuracy: 0.7733 - val_loss: 0.1532 - val_accuracy: 0.6900\n",
            "Epoch 114/160\n",
            "2656/2656 [==============================] - 16s 6ms/step - loss: 0.1128 - accuracy: 0.7714 - val_loss: 0.1515 - val_accuracy: 0.6882\n",
            "Epoch 115/160\n",
            "2656/2656 [==============================] - 16s 6ms/step - loss: 0.1129 - accuracy: 0.7698 - val_loss: 0.1523 - val_accuracy: 0.6859\n",
            "Epoch 116/160\n",
            "2656/2656 [==============================] - 16s 6ms/step - loss: 0.1129 - accuracy: 0.7693 - val_loss: 0.1540 - val_accuracy: 0.6864\n",
            "Epoch 117/160\n",
            "2656/2656 [==============================] - 16s 6ms/step - loss: 0.1122 - accuracy: 0.7735 - val_loss: 0.1521 - val_accuracy: 0.6902\n",
            "Epoch 118/160\n",
            "2656/2656 [==============================] - 16s 6ms/step - loss: 0.1113 - accuracy: 0.7776 - val_loss: 0.1520 - val_accuracy: 0.6903\n",
            "Epoch 119/160\n",
            "2656/2656 [==============================] - 16s 6ms/step - loss: 0.1119 - accuracy: 0.7733 - val_loss: 0.1547 - val_accuracy: 0.6896\n",
            "Epoch 120/160\n",
            "2656/2656 [==============================] - 16s 6ms/step - loss: 0.1117 - accuracy: 0.7737 - val_loss: 0.1529 - val_accuracy: 0.6900\n",
            "Epoch 121/160\n",
            "2656/2656 [==============================] - 16s 6ms/step - loss: 0.1108 - accuracy: 0.7794 - val_loss: 0.1540 - val_accuracy: 0.6886\n",
            "Epoch 122/160\n",
            "2656/2656 [==============================] - 16s 6ms/step - loss: 0.1110 - accuracy: 0.7767 - val_loss: 0.1535 - val_accuracy: 0.6874\n",
            "Epoch 123/160\n",
            "2656/2656 [==============================] - 16s 6ms/step - loss: 0.1115 - accuracy: 0.7757 - val_loss: 0.1534 - val_accuracy: 0.6848\n",
            "Epoch 124/160\n",
            "2656/2656 [==============================] - 16s 6ms/step - loss: 0.1107 - accuracy: 0.7782 - val_loss: 0.1543 - val_accuracy: 0.6888\n",
            "Epoch 125/160\n",
            "2656/2656 [==============================] - 16s 6ms/step - loss: 0.1105 - accuracy: 0.7778 - val_loss: 0.1538 - val_accuracy: 0.6871\n",
            "Epoch 126/160\n",
            "2656/2656 [==============================] - 16s 6ms/step - loss: 0.1093 - accuracy: 0.7807 - val_loss: 0.1534 - val_accuracy: 0.6896\n",
            "Epoch 127/160\n",
            "2656/2656 [==============================] - 16s 6ms/step - loss: 0.1083 - accuracy: 0.7818 - val_loss: 0.1537 - val_accuracy: 0.6927\n",
            "Epoch 128/160\n",
            "2656/2656 [==============================] - 17s 6ms/step - loss: 0.1089 - accuracy: 0.7824 - val_loss: 0.1549 - val_accuracy: 0.6886\n",
            "Epoch 129/160\n",
            "2656/2656 [==============================] - 16s 6ms/step - loss: 0.1090 - accuracy: 0.7808 - val_loss: 0.1551 - val_accuracy: 0.6883\n",
            "Epoch 130/160\n",
            "2656/2656 [==============================] - 16s 6ms/step - loss: 0.1082 - accuracy: 0.7825 - val_loss: 0.1567 - val_accuracy: 0.6860\n",
            "Epoch 131/160\n",
            "2656/2656 [==============================] - 16s 6ms/step - loss: 0.1079 - accuracy: 0.7847 - val_loss: 0.1545 - val_accuracy: 0.6874\n",
            "Epoch 132/160\n",
            "2656/2656 [==============================] - 16s 6ms/step - loss: 0.1070 - accuracy: 0.7861 - val_loss: 0.1545 - val_accuracy: 0.6899\n",
            "Epoch 133/160\n",
            "2656/2656 [==============================] - 16s 6ms/step - loss: 0.1072 - accuracy: 0.7847 - val_loss: 0.1554 - val_accuracy: 0.6870\n",
            "Epoch 134/160\n",
            "2656/2656 [==============================] - 16s 6ms/step - loss: 0.1086 - accuracy: 0.7804 - val_loss: 0.1546 - val_accuracy: 0.6846\n",
            "Epoch 135/160\n",
            "2656/2656 [==============================] - 16s 6ms/step - loss: 0.1063 - accuracy: 0.7882 - val_loss: 0.1545 - val_accuracy: 0.6886\n",
            "Epoch 136/160\n",
            "2656/2656 [==============================] - 16s 6ms/step - loss: 0.1063 - accuracy: 0.7873 - val_loss: 0.1561 - val_accuracy: 0.6887\n",
            "Epoch 137/160\n",
            "2656/2656 [==============================] - 16s 6ms/step - loss: 0.1055 - accuracy: 0.7880 - val_loss: 0.1549 - val_accuracy: 0.6880\n",
            "Epoch 138/160\n",
            "2656/2656 [==============================] - 16s 6ms/step - loss: 0.1062 - accuracy: 0.7875 - val_loss: 0.1574 - val_accuracy: 0.6876\n",
            "Epoch 139/160\n",
            "2656/2656 [==============================] - 16s 6ms/step - loss: 0.1072 - accuracy: 0.7848 - val_loss: 0.1574 - val_accuracy: 0.6926\n",
            "Epoch 140/160\n",
            "2656/2656 [==============================] - 16s 6ms/step - loss: 0.1061 - accuracy: 0.7874 - val_loss: 0.1565 - val_accuracy: 0.6891\n",
            "Epoch 141/160\n",
            "2656/2656 [==============================] - 16s 6ms/step - loss: 0.1059 - accuracy: 0.7860 - val_loss: 0.1563 - val_accuracy: 0.6903\n",
            "Epoch 142/160\n",
            "2656/2656 [==============================] - 16s 6ms/step - loss: 0.1061 - accuracy: 0.7899 - val_loss: 0.1580 - val_accuracy: 0.6868\n",
            "Epoch 143/160\n",
            "2656/2656 [==============================] - 16s 6ms/step - loss: 0.1044 - accuracy: 0.7907 - val_loss: 0.1574 - val_accuracy: 0.6858\n",
            "Epoch 144/160\n",
            "2656/2656 [==============================] - 16s 6ms/step - loss: 0.1056 - accuracy: 0.7903 - val_loss: 0.1584 - val_accuracy: 0.6850\n",
            "Epoch 145/160\n",
            "2656/2656 [==============================] - 16s 6ms/step - loss: 0.1049 - accuracy: 0.7898 - val_loss: 0.1578 - val_accuracy: 0.6846\n",
            "Epoch 146/160\n",
            "2656/2656 [==============================] - 16s 6ms/step - loss: 0.1041 - accuracy: 0.7936 - val_loss: 0.1569 - val_accuracy: 0.6891\n",
            "Epoch 147/160\n",
            "2656/2656 [==============================] - 16s 6ms/step - loss: 0.1051 - accuracy: 0.7932 - val_loss: 0.1575 - val_accuracy: 0.6830\n",
            "Epoch 148/160\n",
            "2656/2656 [==============================] - 16s 6ms/step - loss: 0.1049 - accuracy: 0.7917 - val_loss: 0.1581 - val_accuracy: 0.6899\n",
            "Epoch 149/160\n",
            "2656/2656 [==============================] - 16s 6ms/step - loss: 0.1050 - accuracy: 0.7919 - val_loss: 0.1596 - val_accuracy: 0.6828\n",
            "Epoch 150/160\n",
            "2656/2656 [==============================] - 16s 6ms/step - loss: 0.1035 - accuracy: 0.7936 - val_loss: 0.1582 - val_accuracy: 0.6832\n",
            "Epoch 151/160\n",
            "2656/2656 [==============================] - 16s 6ms/step - loss: 0.1038 - accuracy: 0.7922 - val_loss: 0.1578 - val_accuracy: 0.6810\n",
            "Epoch 152/160\n",
            "2656/2656 [==============================] - 16s 6ms/step - loss: 0.1031 - accuracy: 0.7949 - val_loss: 0.1586 - val_accuracy: 0.6855\n",
            "Epoch 153/160\n",
            "2656/2656 [==============================] - 16s 6ms/step - loss: 0.1036 - accuracy: 0.7918 - val_loss: 0.1578 - val_accuracy: 0.6867\n",
            "Epoch 154/160\n",
            "2656/2656 [==============================] - 16s 6ms/step - loss: 0.1040 - accuracy: 0.7921 - val_loss: 0.1596 - val_accuracy: 0.6854\n",
            "Epoch 155/160\n",
            "2656/2656 [==============================] - 16s 6ms/step - loss: 0.1028 - accuracy: 0.7931 - val_loss: 0.1587 - val_accuracy: 0.6854\n",
            "Epoch 156/160\n",
            "2656/2656 [==============================] - 16s 6ms/step - loss: 0.1039 - accuracy: 0.7906 - val_loss: 0.1591 - val_accuracy: 0.6908\n",
            "Epoch 157/160\n",
            "2656/2656 [==============================] - 16s 6ms/step - loss: 0.1029 - accuracy: 0.7922 - val_loss: 0.1597 - val_accuracy: 0.6876\n",
            "Epoch 158/160\n",
            "2656/2656 [==============================] - 16s 6ms/step - loss: 0.1033 - accuracy: 0.7935 - val_loss: 0.1594 - val_accuracy: 0.6847\n",
            "Epoch 159/160\n",
            "2656/2656 [==============================] - 16s 6ms/step - loss: 0.1015 - accuracy: 0.7971 - val_loss: 0.1588 - val_accuracy: 0.6875\n",
            "Epoch 160/160\n",
            "2656/2656 [==============================] - 16s 6ms/step - loss: 0.1026 - accuracy: 0.7951 - val_loss: 0.1595 - val_accuracy: 0.6872\n"
          ],
          "name": "stdout"
        }
      ]
    },
    {
      "cell_type": "code",
      "metadata": {
        "colab": {
          "background_save": true
        },
        "id": "T27ZhHdnyaAF",
        "outputId": "51df8815-d3bd-4b7e-96e7-76fe1a820eeb"
      },
      "source": [
        "f, (ax1, ax2) = plt.subplots(1, 2, figsize=(15, 5))\n",
        "t = f.suptitle('Deep Neural Net Performance', fontsize=12)\n",
        "f.subplots_adjust(top=0.85, wspace=0.3)\n",
        "\n",
        "epochs = list(range(1,EPOCHS+1))\n",
        "ax1.plot(epochs, history.history['accuracy'], label='Train Accuracy')\n",
        "ax1.plot(epochs, history.history['val_accuracy'], label='Validation Accuracy')\n",
        "ax1.set_xticks(epochs)\n",
        "ax1.set_ylabel('Accuracy Value')\n",
        "ax1.set_xlabel('Epoch')\n",
        "ax1.set_title('Accuracy')\n",
        "l1 = ax1.legend(loc=\"best\")\n",
        "\n",
        "ax2.plot(epochs, history.history['loss'], label='Train Loss')\n",
        "ax2.plot(epochs, history.history['val_loss'], label='Validation Loss')\n",
        "ax2.set_xticks(epochs)\n",
        "ax2.set_ylabel('Loss Value')\n",
        "ax2.set_xlabel('Epoch')\n",
        "ax2.set_title('Loss')\n",
        "l2 = ax2.legend(loc=\"best\")"
      ],
      "execution_count": null,
      "outputs": [
        {
          "output_type": "display_data",
          "data": {
            "image/png": "[encoded data removed]",
            "text/plain": [
              "<Figure size 1080x360 with 2 Axes>"
            ]
          },
          "metadata": {
            "tags": []
          }
        }
      ]
    },
    {
      "cell_type": "code",
      "metadata": {
        "colab": {
          "background_save": true
        },
        "id": "NPbFcUZTE9Df"
      },
      "source": [
        "predictions = model.predict(X_test/255.)"
      ],
      "execution_count": null,
      "outputs": []
    },
    {
      "cell_type": "code",
      "metadata": {
        "colab": {
          "background_save": true
        },
        "id": "5r97a3k6FCzZ"
      },
      "source": [
        "test_labels = list(y_test.squeeze())\n",
        "predictions = list(predictions.argmax(axis=1))"
      ],
      "execution_count": null,
      "outputs": []
    },
    {
      "cell_type": "code",
      "metadata": {
        "colab": {
          "background_save": true
        },
        "id": "Mhzpb3vWFgUr"
      },
      "source": [
        "\n",
        "def get_metrics(true_labels, predicted_labels):\n",
        "  print('Accuracy:', np.round(metrics.accuracy_score(true_labels, predicted_labels),4))\n",
        "  print('Precision:', np.round(metrics.precision_score(true_labels, predicted_labels,average='weighted'),4))\n",
        "  print('Recall:', np.round(metrics.recall_score(true_labels, predicted_labels,average='weighted'),4))\n",
        "  print('F1 Score:', np.round(metrics.f1_score(true_labels, predicted_labels,average='weighted'),4))\n",
        "                        "
      ],
      "execution_count": null,
      "outputs": []
    },
    {
      "cell_type": "code",
      "metadata": {
        "colab": {
          "background_save": true
        },
        "id": "TwXFK28cEKtE",
        "outputId": "fd8324e8-acb4-4b99-c6eb-57194528e944"
      },
      "source": [
        "\n",
        "get_metrics(true_labels=y_test,  predicted_labels=predictions)"
      ],
      "execution_count": null,
      "outputs": [
        {
          "output_type": "stream",
          "text": [
            "Accuracy: 0.6878\n",
            "Precision: 0.6868\n",
            "Recall: 0.6878\n",
            "F1 Score: 0.6863\n"
          ],
          "name": "stdout"
        }
      ]
    },
    {
      "cell_type": "code",
      "metadata": {
        "colab": {
          "background_save": true
        },
        "id": "9_govUXuDqo1"
      },
      "source": [
        "label_dict = {0:'airplane',\n",
        "             1:'automobile',\n",
        "             2:'bird',\n",
        "             3:'cat',\n",
        "             4:'deer',\n",
        "             5:'dog',\n",
        "             6:'frog',\n",
        "             7:'horse',\n",
        "             8:'ship',\n",
        "             9:'truck'}"
      ],
      "execution_count": null,
      "outputs": []
    },
    {
      "cell_type": "code",
      "metadata": {
        "id": "A8ddQLzpGpJW"
      },
      "source": [
        "from google.colab import drive\n",
        "drive.mount('/content/drive',force_remount=True)"
      ],
      "execution_count": null,
      "outputs": []
    },
    {
      "cell_type": "code",
      "metadata": {
        "colab": {
          "background_save": true
        },
        "id": "M7t52PD7Duos",
        "outputId": "eed70574-6ebf-41c5-a1dc-50ce902033a8"
      },
      "source": [
        " !ls /content/drive/My\\ Drive/ML_models"
      ],
      "execution_count": null,
      "outputs": [
        {
          "output_type": "stream",
          "text": [
            "example  vggmodel_4.h5\tvggmodel.h5  vggmodel_v2.h5\n"
          ],
          "name": "stdout"
        }
      ]
    },
    {
      "cell_type": "code",
      "metadata": {
        "colab": {
          "background_save": true
        },
        "id": "dlAjHlHiGBFf"
      },
      "source": [
        "model.save('/content/drive/My Drive/ML_models/vggmodel_v4.h5')"
      ],
      "execution_count": null,
      "outputs": []
    },
    {
      "cell_type": "code",
      "metadata": {
        "id": "tJRP_0wkblo2"
      },
      "source": [
        " !ls /content/drive/My\\ Drive/ML_models"
      ],
      "execution_count": null,
      "outputs": []
    }
  ]
}