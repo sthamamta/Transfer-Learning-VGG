{
  "nbformat": 4,
  "nbformat_minor": 0,
  "metadata": {
    "colab": {
      "name": "VGG.V2.ipynb",
      "provenance": [],
      "collapsed_sections": [],
      "authorship_tag": "ABX9TyNHlkQ8VsEyxewB5ZlWhSUQ",
      "include_colab_link": true
    },
    "kernelspec": {
      "name": "python3",
      "display_name": "Python 3"
    },
    "language_info": {
      "name": "python"
    },
    "accelerator": "GPU"
  },
  "cells": [
    {
      "cell_type": "markdown",
      "metadata": {
        "id": "view-in-github",
        "colab_type": "text"
      },
      "source": [
        "<a href=\"https://colab.research.google.com/github/sthamamta/Transfer-Learning-VGG/blob/main/VGG_V2.ipynb\" target=\"_parent\"><img src=\"https://colab.research.google.com/assets/colab-badge.svg\" alt=\"Open In Colab\"/></a>"
      ]
    },
    {
      "cell_type": "code",
      "metadata": {
        "id": "RBoLUOpZEtn9"
      },
      "source": [
        "import tensorflow.keras as K\n",
        "from keras.layers import Input, Lambda, Dense, Flatten\n",
        "from keras.models import Model\n",
        "from keras.applications.vgg16 import VGG16\n",
        "from keras.preprocessing import image\n",
        "from keras.models import Sequential\n",
        "import matplotlib.pyplot as plt\n",
        "import tensorflow as tf\n",
        "from tensorflow.keras.datasets import cifar10 \n",
        "\n",
        "import warnings\n",
        "warnings.filterwarnings(\"ignore\", category=FutureWarning)"
      ],
      "execution_count": 1,
      "outputs": []
    },
    {
      "cell_type": "code",
      "metadata": {
        "id": "WoqGnE5_E2IE"
      },
      "source": [
        "def preprocess_data(X, Y):\n",
        "        \"\"\" This method has the preprocess to train a model \"\"\"\n",
        "        X = X.astype('float32')\n",
        "        X_p = K.applications.vgg16.preprocess_input(X)\n",
        "        # Y_p = K.utils.to_categorical(Y, 10)\n",
        "        return(X_p, Y)"
      ],
      "execution_count": 2,
      "outputs": []
    },
    {
      "cell_type": "code",
      "metadata": {
        "colab": {
          "base_uri": "https://localhost:8080/"
        },
        "id": "eAWMGb0BFAlO",
        "outputId": "2937bcd6-bde2-49b4-c5ff-b005a3aa71d5"
      },
      "source": [
        "(Xt, Yt), (X, Y) = K.datasets.cifar10.load_data()\n",
        "X_p, Y_p = preprocess_data(Xt, Yt)\n",
        "Xv_p, Yv_p = preprocess_data(X, Y)\n"
      ],
      "execution_count": 3,
      "outputs": [
        {
          "output_type": "stream",
          "text": [
            "Downloading data from https://www.cs.toronto.edu/~kriz/cifar-10-python.tar.gz\n",
            "170500096/170498071 [==============================] - 2s 0us/step\n"
          ],
          "name": "stdout"
        }
      ]
    },
    {
      "cell_type": "code",
      "metadata": {
        "colab": {
          "base_uri": "https://localhost:8080/"
        },
        "id": "gfRVMXL-GYUl",
        "outputId": "755dd19f-a0db-4e0a-a354-71ebedc2a64e"
      },
      "source": [
        "# X_p=X_p/255.0\n",
        "# Xv_p=Xv_p/255.0\n",
        "X_p.shape"
      ],
      "execution_count": 4,
      "outputs": [
        {
          "output_type": "execute_result",
          "data": {
            "text/plain": [
              "(50000, 32, 32, 3)"
            ]
          },
          "metadata": {
            "tags": []
          },
          "execution_count": 4
        }
      ]
    },
    {
      "cell_type": "code",
      "metadata": {
        "colab": {
          "base_uri": "https://localhost:8080/"
        },
        "id": "idlOnRbOJDOH",
        "outputId": "87c610ab-a753-4805-edb9-39da0c2bf51e"
      },
      "source": [
        "# weights are initialized as per the he et al. method\n",
        "initializer = K.initializers.he_normal()\n",
        "# input_tensor = K.Input(shape=(32, 32, 3))\n",
        "\n",
        "\n",
        "IMAGE_SIZE = [32, 32]\n",
        "base_model = VGG16(input_shape=IMAGE_SIZE + [3], weights='imagenet', include_top = False)\n",
        "\n",
        "for layer in base_model.layers:\n",
        "    layer.trainable = False\n",
        "\n",
        "\n",
        "x = Flatten()(base_model.layers[-1].output)\n",
        "dense1 = Dense(512, activation=('relu'), kernel_initializer = initializer,kernel_regularizer=K.regularizers.l2())(x)\n",
        "dense2 = Dense(256, activation=('relu'), kernel_initializer = initializer,kernel_regularizer=K.regularizers.l2())(dense1)\n",
        "prediction = Dense(10, activation='softmax')(dense1)\n",
        "model = Model(inputs = base_model.input, outputs=prediction)\n",
        "model.summary()"
      ],
      "execution_count": 5,
      "outputs": [
        {
          "output_type": "stream",
          "text": [
            "Downloading data from https://storage.googleapis.com/tensorflow/keras-applications/vgg16/vgg16_weights_tf_dim_ordering_tf_kernels_notop.h5\n",
            "58892288/58889256 [==============================] - 1s 0us/step\n",
            "58900480/58889256 [==============================] - 1s 0us/step\n",
            "Model: \"model\"\n",
            "_________________________________________________________________\n",
            "Layer (type)                 Output Shape              Param #   \n",
            "=================================================================\n",
            "input_1 (InputLayer)         [(None, 32, 32, 3)]       0         \n",
            "_________________________________________________________________\n",
            "block1_conv1 (Conv2D)        (None, 32, 32, 64)        1792      \n",
            "_________________________________________________________________\n",
            "block1_conv2 (Conv2D)        (None, 32, 32, 64)        36928     \n",
            "_________________________________________________________________\n",
            "block1_pool (MaxPooling2D)   (None, 16, 16, 64)        0         \n",
            "_________________________________________________________________\n",
            "block2_conv1 (Conv2D)        (None, 16, 16, 128)       73856     \n",
            "_________________________________________________________________\n",
            "block2_conv2 (Conv2D)        (None, 16, 16, 128)       147584    \n",
            "_________________________________________________________________\n",
            "block2_pool (MaxPooling2D)   (None, 8, 8, 128)         0         \n",
            "_________________________________________________________________\n",
            "block3_conv1 (Conv2D)        (None, 8, 8, 256)         295168    \n",
            "_________________________________________________________________\n",
            "block3_conv2 (Conv2D)        (None, 8, 8, 256)         590080    \n",
            "_________________________________________________________________\n",
            "block3_conv3 (Conv2D)        (None, 8, 8, 256)         590080    \n",
            "_________________________________________________________________\n",
            "block3_pool (MaxPooling2D)   (None, 4, 4, 256)         0         \n",
            "_________________________________________________________________\n",
            "block4_conv1 (Conv2D)        (None, 4, 4, 512)         1180160   \n",
            "_________________________________________________________________\n",
            "block4_conv2 (Conv2D)        (None, 4, 4, 512)         2359808   \n",
            "_________________________________________________________________\n",
            "block4_conv3 (Conv2D)        (None, 4, 4, 512)         2359808   \n",
            "_________________________________________________________________\n",
            "block4_pool (MaxPooling2D)   (None, 2, 2, 512)         0         \n",
            "_________________________________________________________________\n",
            "block5_conv1 (Conv2D)        (None, 2, 2, 512)         2359808   \n",
            "_________________________________________________________________\n",
            "block5_conv2 (Conv2D)        (None, 2, 2, 512)         2359808   \n",
            "_________________________________________________________________\n",
            "block5_conv3 (Conv2D)        (None, 2, 2, 512)         2359808   \n",
            "_________________________________________________________________\n",
            "block5_pool (MaxPooling2D)   (None, 1, 1, 512)         0         \n",
            "_________________________________________________________________\n",
            "flatten (Flatten)            (None, 512)               0         \n",
            "_________________________________________________________________\n",
            "dense (Dense)                (None, 512)               262656    \n",
            "_________________________________________________________________\n",
            "dense_2 (Dense)              (None, 10)                5130      \n",
            "=================================================================\n",
            "Total params: 14,982,474\n",
            "Trainable params: 267,786\n",
            "Non-trainable params: 14,714,688\n",
            "_________________________________________________________________\n"
          ],
          "name": "stdout"
        }
      ]
    },
    {
      "cell_type": "code",
      "metadata": {
        "id": "m_7QSiT-FfG9"
      },
      "source": [
        "model.compile(loss=\"sparse_categorical_crossentropy\",\n",
        "               optimizer=\"Adam\", metrics=[\"sparse_categorical_accuracy\",\"sparse_categorical_crossentropy\"])\n"
      ],
      "execution_count": 6,
      "outputs": []
    },
    {
      "cell_type": "code",
      "metadata": {
        "colab": {
          "base_uri": "https://localhost:8080/"
        },
        "id": "egTgDK9xF1Ij",
        "outputId": "8f6daadd-e5a0-46b4-cffc-bde65818a45a"
      },
      "source": [
        "model_history = model.fit(x = X_p, y = Y_p,\n",
        "              batch_size = 16,\n",
        "              validation_data=(Xv_p, Yv_p),\n",
        "              epochs= 65, shuffle=True,\n",
        "              verbose=1\n",
        "              )"
      ],
      "execution_count": 7,
      "outputs": [
        {
          "output_type": "stream",
          "text": [
            "Epoch 1/65\n",
            "3125/3125 [==============================] - 70s 9ms/step - loss: 10.3471 - sparse_categorical_accuracy: 0.5231 - sparse_categorical_crossentropy: 4.1112 - val_loss: 2.0161 - val_sparse_categorical_accuracy: 0.6030 - val_sparse_categorical_crossentropy: 1.1536\n",
            "Epoch 2/65\n",
            "3125/3125 [==============================] - 27s 9ms/step - loss: 1.7297 - sparse_categorical_accuracy: 0.6240 - sparse_categorical_crossentropy: 1.0893 - val_loss: 1.5066 - val_sparse_categorical_accuracy: 0.5977 - val_sparse_categorical_crossentropy: 1.1614\n",
            "Epoch 3/65\n",
            "3125/3125 [==============================] - 28s 9ms/step - loss: 1.3774 - sparse_categorical_accuracy: 0.6327 - sparse_categorical_crossentropy: 1.0644 - val_loss: 1.2549 - val_sparse_categorical_accuracy: 0.6350 - val_sparse_categorical_crossentropy: 1.0571\n",
            "Epoch 4/65\n",
            "3125/3125 [==============================] - 28s 9ms/step - loss: 1.2195 - sparse_categorical_accuracy: 0.6411 - sparse_categorical_crossentropy: 1.0312 - val_loss: 1.1968 - val_sparse_categorical_accuracy: 0.6361 - val_sparse_categorical_crossentropy: 1.0521\n",
            "Epoch 5/65\n",
            "3125/3125 [==============================] - 27s 9ms/step - loss: 1.1589 - sparse_categorical_accuracy: 0.6470 - sparse_categorical_crossentropy: 1.0188 - val_loss: 1.1716 - val_sparse_categorical_accuracy: 0.6432 - val_sparse_categorical_crossentropy: 1.0461\n",
            "Epoch 6/65\n",
            "3125/3125 [==============================] - 28s 9ms/step - loss: 1.1234 - sparse_categorical_accuracy: 0.6543 - sparse_categorical_crossentropy: 0.9983 - val_loss: 1.1648 - val_sparse_categorical_accuracy: 0.6365 - val_sparse_categorical_crossentropy: 1.0481\n",
            "Epoch 7/65\n",
            "3125/3125 [==============================] - 27s 9ms/step - loss: 1.1293 - sparse_categorical_accuracy: 0.6520 - sparse_categorical_crossentropy: 1.0098 - val_loss: 1.1684 - val_sparse_categorical_accuracy: 0.6397 - val_sparse_categorical_crossentropy: 1.0500\n",
            "Epoch 8/65\n",
            "3125/3125 [==============================] - 27s 9ms/step - loss: 1.1251 - sparse_categorical_accuracy: 0.6525 - sparse_categorical_crossentropy: 1.0079 - val_loss: 1.1583 - val_sparse_categorical_accuracy: 0.6374 - val_sparse_categorical_crossentropy: 1.0418\n",
            "Epoch 9/65\n",
            "3125/3125 [==============================] - 28s 9ms/step - loss: 1.1192 - sparse_categorical_accuracy: 0.6539 - sparse_categorical_crossentropy: 1.0023 - val_loss: 1.1555 - val_sparse_categorical_accuracy: 0.6411 - val_sparse_categorical_crossentropy: 1.0438\n",
            "Epoch 10/65\n",
            "3125/3125 [==============================] - 27s 9ms/step - loss: 1.1133 - sparse_categorical_accuracy: 0.6544 - sparse_categorical_crossentropy: 0.9987 - val_loss: 1.1641 - val_sparse_categorical_accuracy: 0.6367 - val_sparse_categorical_crossentropy: 1.0500\n",
            "Epoch 11/65\n",
            "3125/3125 [==============================] - 27s 9ms/step - loss: 1.1165 - sparse_categorical_accuracy: 0.6518 - sparse_categorical_crossentropy: 1.0032 - val_loss: 1.1470 - val_sparse_categorical_accuracy: 0.6413 - val_sparse_categorical_crossentropy: 1.0386\n",
            "Epoch 12/65\n",
            "3125/3125 [==============================] - 27s 9ms/step - loss: 1.1082 - sparse_categorical_accuracy: 0.6555 - sparse_categorical_crossentropy: 0.9974 - val_loss: 1.1643 - val_sparse_categorical_accuracy: 0.6372 - val_sparse_categorical_crossentropy: 1.0557\n",
            "Epoch 13/65\n",
            "3125/3125 [==============================] - 27s 9ms/step - loss: 1.1023 - sparse_categorical_accuracy: 0.6554 - sparse_categorical_crossentropy: 0.9926 - val_loss: 1.1635 - val_sparse_categorical_accuracy: 0.6334 - val_sparse_categorical_crossentropy: 1.0556\n",
            "Epoch 14/65\n",
            "3125/3125 [==============================] - 28s 9ms/step - loss: 1.1140 - sparse_categorical_accuracy: 0.6535 - sparse_categorical_crossentropy: 1.0048 - val_loss: 1.1733 - val_sparse_categorical_accuracy: 0.6334 - val_sparse_categorical_crossentropy: 1.0660\n",
            "Epoch 15/65\n",
            "3125/3125 [==============================] - 27s 9ms/step - loss: 1.1118 - sparse_categorical_accuracy: 0.6536 - sparse_categorical_crossentropy: 1.0045 - val_loss: 1.1249 - val_sparse_categorical_accuracy: 0.6484 - val_sparse_categorical_crossentropy: 1.0238\n",
            "Epoch 16/65\n",
            "3125/3125 [==============================] - 28s 9ms/step - loss: 1.1045 - sparse_categorical_accuracy: 0.6536 - sparse_categorical_crossentropy: 1.0009 - val_loss: 1.1513 - val_sparse_categorical_accuracy: 0.6401 - val_sparse_categorical_crossentropy: 1.0507\n",
            "Epoch 17/65\n",
            "3125/3125 [==============================] - 28s 9ms/step - loss: 1.1053 - sparse_categorical_accuracy: 0.6509 - sparse_categorical_crossentropy: 1.0019 - val_loss: 1.1244 - val_sparse_categorical_accuracy: 0.6488 - val_sparse_categorical_crossentropy: 1.0267\n",
            "Epoch 18/65\n",
            "3125/3125 [==============================] - 27s 9ms/step - loss: 1.1072 - sparse_categorical_accuracy: 0.6524 - sparse_categorical_crossentropy: 1.0061 - val_loss: 1.1537 - val_sparse_categorical_accuracy: 0.6431 - val_sparse_categorical_crossentropy: 1.0551\n",
            "Epoch 19/65\n",
            "3125/3125 [==============================] - 28s 9ms/step - loss: 1.1014 - sparse_categorical_accuracy: 0.6512 - sparse_categorical_crossentropy: 1.0022 - val_loss: 1.1528 - val_sparse_categorical_accuracy: 0.6347 - val_sparse_categorical_crossentropy: 1.0564\n",
            "Epoch 20/65\n",
            "3125/3125 [==============================] - 28s 9ms/step - loss: 1.0994 - sparse_categorical_accuracy: 0.6562 - sparse_categorical_crossentropy: 1.0003 - val_loss: 1.1438 - val_sparse_categorical_accuracy: 0.6434 - val_sparse_categorical_crossentropy: 1.0454\n",
            "Epoch 21/65\n",
            "3125/3125 [==============================] - 28s 9ms/step - loss: 1.0951 - sparse_categorical_accuracy: 0.6541 - sparse_categorical_crossentropy: 0.9962 - val_loss: 1.1338 - val_sparse_categorical_accuracy: 0.6406 - val_sparse_categorical_crossentropy: 1.0377\n",
            "Epoch 22/65\n",
            "3125/3125 [==============================] - 27s 9ms/step - loss: 1.0968 - sparse_categorical_accuracy: 0.6534 - sparse_categorical_crossentropy: 0.9992 - val_loss: 1.1327 - val_sparse_categorical_accuracy: 0.6511 - val_sparse_categorical_crossentropy: 1.0342\n",
            "Epoch 23/65\n",
            "3125/3125 [==============================] - 28s 9ms/step - loss: 1.0977 - sparse_categorical_accuracy: 0.6570 - sparse_categorical_crossentropy: 0.9995 - val_loss: 1.1317 - val_sparse_categorical_accuracy: 0.6456 - val_sparse_categorical_crossentropy: 1.0377\n",
            "Epoch 24/65\n",
            "3125/3125 [==============================] - 27s 9ms/step - loss: 1.0985 - sparse_categorical_accuracy: 0.6512 - sparse_categorical_crossentropy: 1.0025 - val_loss: 1.1291 - val_sparse_categorical_accuracy: 0.6390 - val_sparse_categorical_crossentropy: 1.0360\n",
            "Epoch 25/65\n",
            "3125/3125 [==============================] - 27s 9ms/step - loss: 1.0951 - sparse_categorical_accuracy: 0.6587 - sparse_categorical_crossentropy: 0.9994 - val_loss: 1.1259 - val_sparse_categorical_accuracy: 0.6479 - val_sparse_categorical_crossentropy: 1.0301\n",
            "Epoch 26/65\n",
            "3125/3125 [==============================] - 28s 9ms/step - loss: 1.1043 - sparse_categorical_accuracy: 0.6539 - sparse_categorical_crossentropy: 1.0077 - val_loss: 1.1179 - val_sparse_categorical_accuracy: 0.6503 - val_sparse_categorical_crossentropy: 1.0250\n",
            "Epoch 27/65\n",
            "3125/3125 [==============================] - 27s 9ms/step - loss: 1.0840 - sparse_categorical_accuracy: 0.6553 - sparse_categorical_crossentropy: 0.9885 - val_loss: 1.1222 - val_sparse_categorical_accuracy: 0.6494 - val_sparse_categorical_crossentropy: 1.0306\n",
            "Epoch 28/65\n",
            "3125/3125 [==============================] - 28s 9ms/step - loss: 1.1037 - sparse_categorical_accuracy: 0.6507 - sparse_categorical_crossentropy: 1.0092 - val_loss: 1.1444 - val_sparse_categorical_accuracy: 0.6356 - val_sparse_categorical_crossentropy: 1.0521\n",
            "Epoch 29/65\n",
            "3125/3125 [==============================] - 28s 9ms/step - loss: 1.0931 - sparse_categorical_accuracy: 0.6555 - sparse_categorical_crossentropy: 0.9978 - val_loss: 1.1432 - val_sparse_categorical_accuracy: 0.6471 - val_sparse_categorical_crossentropy: 1.0499\n",
            "Epoch 30/65\n",
            "3125/3125 [==============================] - 27s 9ms/step - loss: 1.0942 - sparse_categorical_accuracy: 0.6542 - sparse_categorical_crossentropy: 0.9994 - val_loss: 1.1478 - val_sparse_categorical_accuracy: 0.6373 - val_sparse_categorical_crossentropy: 1.0549\n",
            "Epoch 31/65\n",
            "3125/3125 [==============================] - 27s 9ms/step - loss: 1.0977 - sparse_categorical_accuracy: 0.6507 - sparse_categorical_crossentropy: 1.0023 - val_loss: 1.1364 - val_sparse_categorical_accuracy: 0.6424 - val_sparse_categorical_crossentropy: 1.0443\n",
            "Epoch 32/65\n",
            "3125/3125 [==============================] - 28s 9ms/step - loss: 1.1004 - sparse_categorical_accuracy: 0.6515 - sparse_categorical_crossentropy: 1.0050 - val_loss: 1.1260 - val_sparse_categorical_accuracy: 0.6501 - val_sparse_categorical_crossentropy: 1.0326\n",
            "Epoch 33/65\n",
            "3125/3125 [==============================] - 27s 9ms/step - loss: 1.0920 - sparse_categorical_accuracy: 0.6552 - sparse_categorical_crossentropy: 0.9971 - val_loss: 1.1286 - val_sparse_categorical_accuracy: 0.6482 - val_sparse_categorical_crossentropy: 1.0363\n",
            "Epoch 34/65\n",
            "3125/3125 [==============================] - 28s 9ms/step - loss: 1.0970 - sparse_categorical_accuracy: 0.6515 - sparse_categorical_crossentropy: 1.0029 - val_loss: 1.1379 - val_sparse_categorical_accuracy: 0.6383 - val_sparse_categorical_crossentropy: 1.0450\n",
            "Epoch 35/65\n",
            "3125/3125 [==============================] - 28s 9ms/step - loss: 1.0899 - sparse_categorical_accuracy: 0.6573 - sparse_categorical_crossentropy: 0.9952 - val_loss: 1.1237 - val_sparse_categorical_accuracy: 0.6466 - val_sparse_categorical_crossentropy: 1.0319\n",
            "Epoch 36/65\n",
            "3125/3125 [==============================] - 27s 9ms/step - loss: 1.0886 - sparse_categorical_accuracy: 0.6577 - sparse_categorical_crossentropy: 0.9941 - val_loss: 1.1256 - val_sparse_categorical_accuracy: 0.6452 - val_sparse_categorical_crossentropy: 1.0335\n",
            "Epoch 37/65\n",
            "3125/3125 [==============================] - 28s 9ms/step - loss: 1.0960 - sparse_categorical_accuracy: 0.6531 - sparse_categorical_crossentropy: 1.0022 - val_loss: 1.1344 - val_sparse_categorical_accuracy: 0.6437 - val_sparse_categorical_crossentropy: 1.0428\n",
            "Epoch 38/65\n",
            "3125/3125 [==============================] - 27s 9ms/step - loss: 1.1003 - sparse_categorical_accuracy: 0.6511 - sparse_categorical_crossentropy: 1.0075 - val_loss: 1.1346 - val_sparse_categorical_accuracy: 0.6417 - val_sparse_categorical_crossentropy: 1.0445\n",
            "Epoch 39/65\n",
            "3125/3125 [==============================] - 28s 9ms/step - loss: 1.0889 - sparse_categorical_accuracy: 0.6567 - sparse_categorical_crossentropy: 0.9967 - val_loss: 1.1321 - val_sparse_categorical_accuracy: 0.6442 - val_sparse_categorical_crossentropy: 1.0411\n",
            "Epoch 40/65\n",
            "3125/3125 [==============================] - 28s 9ms/step - loss: 1.0976 - sparse_categorical_accuracy: 0.6531 - sparse_categorical_crossentropy: 1.0055 - val_loss: 1.1539 - val_sparse_categorical_accuracy: 0.6348 - val_sparse_categorical_crossentropy: 1.0630\n",
            "Epoch 41/65\n",
            "3125/3125 [==============================] - 28s 9ms/step - loss: 1.0889 - sparse_categorical_accuracy: 0.6542 - sparse_categorical_crossentropy: 0.9960 - val_loss: 1.1548 - val_sparse_categorical_accuracy: 0.6358 - val_sparse_categorical_crossentropy: 1.0646\n",
            "Epoch 42/65\n",
            "3125/3125 [==============================] - 27s 9ms/step - loss: 1.0934 - sparse_categorical_accuracy: 0.6530 - sparse_categorical_crossentropy: 1.0007 - val_loss: 1.1220 - val_sparse_categorical_accuracy: 0.6444 - val_sparse_categorical_crossentropy: 1.0341\n",
            "Epoch 43/65\n",
            "3125/3125 [==============================] - 27s 9ms/step - loss: 1.0890 - sparse_categorical_accuracy: 0.6521 - sparse_categorical_crossentropy: 0.9978 - val_loss: 1.1527 - val_sparse_categorical_accuracy: 0.6382 - val_sparse_categorical_crossentropy: 1.0629\n",
            "Epoch 44/65\n",
            "3125/3125 [==============================] - 27s 9ms/step - loss: 1.0902 - sparse_categorical_accuracy: 0.6497 - sparse_categorical_crossentropy: 0.9987 - val_loss: 1.1205 - val_sparse_categorical_accuracy: 0.6492 - val_sparse_categorical_crossentropy: 1.0316\n",
            "Epoch 45/65\n",
            "3125/3125 [==============================] - 28s 9ms/step - loss: 1.0907 - sparse_categorical_accuracy: 0.6521 - sparse_categorical_crossentropy: 0.9995 - val_loss: 1.1184 - val_sparse_categorical_accuracy: 0.6508 - val_sparse_categorical_crossentropy: 1.0295\n",
            "Epoch 46/65\n",
            "3125/3125 [==============================] - 28s 9ms/step - loss: 1.0934 - sparse_categorical_accuracy: 0.6541 - sparse_categorical_crossentropy: 1.0013 - val_loss: 1.1514 - val_sparse_categorical_accuracy: 0.6333 - val_sparse_categorical_crossentropy: 1.0622\n",
            "Epoch 47/65\n",
            "3125/3125 [==============================] - 27s 9ms/step - loss: 1.0888 - sparse_categorical_accuracy: 0.6558 - sparse_categorical_crossentropy: 0.9974 - val_loss: 1.1414 - val_sparse_categorical_accuracy: 0.6388 - val_sparse_categorical_crossentropy: 1.0528\n",
            "Epoch 48/65\n",
            "3125/3125 [==============================] - 27s 9ms/step - loss: 1.0886 - sparse_categorical_accuracy: 0.6562 - sparse_categorical_crossentropy: 0.9972 - val_loss: 1.1430 - val_sparse_categorical_accuracy: 0.6421 - val_sparse_categorical_crossentropy: 1.0537\n",
            "Epoch 49/65\n",
            "3125/3125 [==============================] - 27s 9ms/step - loss: 1.0840 - sparse_categorical_accuracy: 0.6567 - sparse_categorical_crossentropy: 0.9931 - val_loss: 1.1408 - val_sparse_categorical_accuracy: 0.6396 - val_sparse_categorical_crossentropy: 1.0516\n",
            "Epoch 50/65\n",
            "3125/3125 [==============================] - 27s 9ms/step - loss: 1.0962 - sparse_categorical_accuracy: 0.6548 - sparse_categorical_crossentropy: 1.0055 - val_loss: 1.1163 - val_sparse_categorical_accuracy: 0.6504 - val_sparse_categorical_crossentropy: 1.0279\n",
            "Epoch 51/65\n",
            "3125/3125 [==============================] - 27s 9ms/step - loss: 1.0912 - sparse_categorical_accuracy: 0.6554 - sparse_categorical_crossentropy: 1.0007 - val_loss: 1.1342 - val_sparse_categorical_accuracy: 0.6433 - val_sparse_categorical_crossentropy: 1.0444\n",
            "Epoch 52/65\n",
            "3125/3125 [==============================] - 28s 9ms/step - loss: 1.0913 - sparse_categorical_accuracy: 0.6567 - sparse_categorical_crossentropy: 0.9996 - val_loss: 1.1139 - val_sparse_categorical_accuracy: 0.6457 - val_sparse_categorical_crossentropy: 1.0261\n",
            "Epoch 53/65\n",
            "3125/3125 [==============================] - 27s 9ms/step - loss: 1.0851 - sparse_categorical_accuracy: 0.6569 - sparse_categorical_crossentropy: 0.9943 - val_loss: 1.1335 - val_sparse_categorical_accuracy: 0.6443 - val_sparse_categorical_crossentropy: 1.0441\n",
            "Epoch 54/65\n",
            "3125/3125 [==============================] - 28s 9ms/step - loss: 1.0957 - sparse_categorical_accuracy: 0.6529 - sparse_categorical_crossentropy: 1.0050 - val_loss: 1.1373 - val_sparse_categorical_accuracy: 0.6409 - val_sparse_categorical_crossentropy: 1.0481\n",
            "Epoch 55/65\n",
            "3125/3125 [==============================] - 28s 9ms/step - loss: 1.0870 - sparse_categorical_accuracy: 0.6538 - sparse_categorical_crossentropy: 0.9965 - val_loss: 1.1300 - val_sparse_categorical_accuracy: 0.6397 - val_sparse_categorical_crossentropy: 1.0402\n",
            "Epoch 56/65\n",
            "3125/3125 [==============================] - 28s 9ms/step - loss: 1.0875 - sparse_categorical_accuracy: 0.6562 - sparse_categorical_crossentropy: 0.9960 - val_loss: 1.1363 - val_sparse_categorical_accuracy: 0.6420 - val_sparse_categorical_crossentropy: 1.0469\n",
            "Epoch 57/65\n",
            "3125/3125 [==============================] - 28s 9ms/step - loss: 1.0960 - sparse_categorical_accuracy: 0.6508 - sparse_categorical_crossentropy: 1.0044 - val_loss: 1.1256 - val_sparse_categorical_accuracy: 0.6401 - val_sparse_categorical_crossentropy: 1.0357\n",
            "Epoch 58/65\n",
            "3125/3125 [==============================] - 28s 9ms/step - loss: 1.0906 - sparse_categorical_accuracy: 0.6540 - sparse_categorical_crossentropy: 0.9988 - val_loss: 1.1184 - val_sparse_categorical_accuracy: 0.6475 - val_sparse_categorical_crossentropy: 1.0299\n",
            "Epoch 59/65\n",
            "3125/3125 [==============================] - 27s 9ms/step - loss: 1.0860 - sparse_categorical_accuracy: 0.6543 - sparse_categorical_crossentropy: 0.9956 - val_loss: 1.1202 - val_sparse_categorical_accuracy: 0.6421 - val_sparse_categorical_crossentropy: 1.0319\n",
            "Epoch 60/65\n",
            "3125/3125 [==============================] - 28s 9ms/step - loss: 1.0982 - sparse_categorical_accuracy: 0.6529 - sparse_categorical_crossentropy: 1.0072 - val_loss: 1.1476 - val_sparse_categorical_accuracy: 0.6409 - val_sparse_categorical_crossentropy: 1.0582\n",
            "Epoch 61/65\n",
            "3125/3125 [==============================] - 28s 9ms/step - loss: 1.0865 - sparse_categorical_accuracy: 0.6547 - sparse_categorical_crossentropy: 0.9950 - val_loss: 1.1193 - val_sparse_categorical_accuracy: 0.6472 - val_sparse_categorical_crossentropy: 1.0287\n",
            "Epoch 62/65\n",
            "3125/3125 [==============================] - 27s 9ms/step - loss: 1.0935 - sparse_categorical_accuracy: 0.6546 - sparse_categorical_crossentropy: 1.0018 - val_loss: 1.1294 - val_sparse_categorical_accuracy: 0.6470 - val_sparse_categorical_crossentropy: 1.0395\n",
            "Epoch 63/65\n",
            "3125/3125 [==============================] - 29s 9ms/step - loss: 1.0974 - sparse_categorical_accuracy: 0.6514 - sparse_categorical_crossentropy: 1.0058 - val_loss: 1.1233 - val_sparse_categorical_accuracy: 0.6472 - val_sparse_categorical_crossentropy: 1.0326\n",
            "Epoch 64/65\n",
            "3125/3125 [==============================] - 28s 9ms/step - loss: 1.0830 - sparse_categorical_accuracy: 0.6573 - sparse_categorical_crossentropy: 0.9909 - val_loss: 1.1290 - val_sparse_categorical_accuracy: 0.6430 - val_sparse_categorical_crossentropy: 1.0375\n",
            "Epoch 65/65\n",
            "3125/3125 [==============================] - 28s 9ms/step - loss: 1.0906 - sparse_categorical_accuracy: 0.6521 - sparse_categorical_crossentropy: 0.9976 - val_loss: 1.1482 - val_sparse_categorical_accuracy: 0.6377 - val_sparse_categorical_crossentropy: 1.0585\n"
          ],
          "name": "stdout"
        }
      ]
    },
    {
      "cell_type": "code",
      "metadata": {
        "colab": {
          "base_uri": "https://localhost:8080/",
          "height": 295
        },
        "id": "261dPCw1F93n",
        "outputId": "d10e9c4d-e149-4591-aa38-79ec57c45a74"
      },
      "source": [
        "_# Plot training & validation loss values\n",
        "plt.plot(model_history.history['sparse_categorical_accuracy'])\n",
        "plt.plot(model_history.history['sparse_categorical_crossentropy'])\n",
        "plt.title('CNN Model accuracy values and loss value')\n",
        "plt.ylabel('Accuracy')\n",
        "plt.xlabel('Epoch')\n",
        "plt.legend(['accuracy', 'loss'], loc='upper left')\n",
        "plt.show()"
      ],
      "execution_count": 8,
      "outputs": [
        {
          "output_type": "display_data",
          "data": {
            "image/png": "[encoded data removed]",
            "text/plain": [
              "<Figure size 432x288 with 1 Axes>"
            ]
          },
          "metadata": {
            "tags": [],
            "needs_background": "light"
          }
        }
      ]
    },
    {
      "cell_type": "code",
      "metadata": {
        "colab": {
          "base_uri": "https://localhost:8080/"
        },
        "id": "uLGZkh63rMHA",
        "outputId": "867cc3b9-79f7-410d-f5d6-885104d2ccbf"
      },
      "source": [
        "test_loss, test_accuracy, *other_values = model.evaluate(Xv_p, Yv_p)"
      ],
      "execution_count": 9,
      "outputs": [
        {
          "output_type": "stream",
          "text": [
            "313/313 [==============================] - 4s 9ms/step - loss: 1.1482 - sparse_categorical_accuracy: 0.6377 - sparse_categorical_crossentropy: 1.0585\n"
          ],
          "name": "stdout"
        }
      ]
    },
    {
      "cell_type": "code",
      "metadata": {
        "colab": {
          "base_uri": "https://localhost:8080/"
        },
        "id": "CVdnbwN7rbZm",
        "outputId": "74a1633b-3946-45ab-aa25-635cf2f42516"
      },
      "source": [
        "print(\"Test accuracy: {}\".format(test_accuracy))"
      ],
      "execution_count": 10,
      "outputs": [
        {
          "output_type": "stream",
          "text": [
            "Test accuracy: 0.6377000212669373\n"
          ],
          "name": "stdout"
        }
      ]
    },
    {
      "cell_type": "code",
      "metadata": {
        "colab": {
          "base_uri": "https://localhost:8080/"
        },
        "id": "jhnQ2NgSrjPy",
        "outputId": "567dcdaa-00e0-4d34-ae29-03ee97467d70"
      },
      "source": [
        "print(\"Test loss: {}\".format(test_loss))"
      ],
      "execution_count": 11,
      "outputs": [
        {
          "output_type": "stream",
          "text": [
            "Test loss: 1.1482266187667847\n"
          ],
          "name": "stdout"
        }
      ]
    },
    {
      "cell_type": "code",
      "metadata": {
        "colab": {
          "base_uri": "https://localhost:8080/"
        },
        "id": "u6qD-5-TrmaD",
        "outputId": "6a5aed37-6702-4fee-c726-08fbfa2fe616"
      },
      "source": [
        "from google.colab import drive\n",
        "drive.mount('/content/drive',force_remount=True)"
      ],
      "execution_count": 12,
      "outputs": [
        {
          "output_type": "stream",
          "text": [
            "Mounted at /content/drive\n"
          ],
          "name": "stdout"
        }
      ]
    },
    {
      "cell_type": "code",
      "metadata": {
        "colab": {
          "base_uri": "https://localhost:8080/"
        },
        "id": "oR7ELWYGrsH2",
        "outputId": "b5577726-5c28-431b-defe-a1567d74a3e8"
      },
      "source": [
        " !ls /content/drive/My\\ Drive/ML_models"
      ],
      "execution_count": 13,
      "outputs": [
        {
          "output_type": "stream",
          "text": [
            "example  vggmodel_4.h5\tvggmodel.h5  vggmodel_v2.h5\n"
          ],
          "name": "stdout"
        }
      ]
    },
    {
      "cell_type": "code",
      "metadata": {
        "id": "p-P8-Jktr0Gw"
      },
      "source": [
        "model.save('/content/drive/My Drive/ML_models/vggmodel_v2.h5')"
      ],
      "execution_count": 14,
      "outputs": []
    },
    {
      "cell_type": "code",
      "metadata": {
        "colab": {
          "base_uri": "https://localhost:8080/"
        },
        "id": "WoGoBY8Rruhf",
        "outputId": "832a9309-19ca-4f85-8abb-2b38335e0f85"
      },
      "source": [
        " !ls /content/drive/My\\ Drive/ML_models"
      ],
      "execution_count": 15,
      "outputs": [
        {
          "output_type": "stream",
          "text": [
            "example  vggmodel_4.h5\tvggmodel.h5  vggmodel_v2.h5\n"
          ],
          "name": "stdout"
        }
      ]
    }
  ]
}