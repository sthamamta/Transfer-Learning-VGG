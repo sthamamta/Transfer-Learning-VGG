{
  "nbformat": 4,
  "nbformat_minor": 0,
  "metadata": {
    "colab": {
      "name": "VGG.V2.ipynb",
      "provenance": [],
      "collapsed_sections": [],
      "authorship_tag": "ABX9TyOMdWy5uN/Xp4uuufm1sAFP",
      "include_colab_link": true
    },
    "kernelspec": {
      "name": "python3",
      "display_name": "Python 3"
    },
    "language_info": {
      "name": "python"
    },
    "accelerator": "GPU"
  },
  "cells": [
    {
      "cell_type": "markdown",
      "metadata": {
        "id": "view-in-github",
        "colab_type": "text"
      },
      "source": [
        "<a href=\"https://colab.research.google.com/github/sthamamta/Transfer-Learning-VGG/blob/main/VGG_V2.ipynb\" target=\"_parent\"><img src=\"https://colab.research.google.com/assets/colab-badge.svg\" alt=\"Open In Colab\"/></a>"
      ]
    },
    {
      "cell_type": "code",
      "metadata": {
        "id": "RBoLUOpZEtn9"
      },
      "source": [
        "import tensorflow.keras as K\n",
        "from keras.layers import Input, Lambda, Dense, Flatten\n",
        "from keras.models import Model\n",
        "from keras.applications.vgg16 import VGG16\n",
        "from keras.preprocessing import image\n",
        "from keras.models import Sequential\n",
        "import matplotlib.pyplot as plt\n",
        "import tensorflow as tf\n",
        "from tensorflow.keras.datasets import cifar10 \n",
        "\n",
        "import warnings\n",
        "warnings.filterwarnings(\"ignore\", category=FutureWarning)"
      ],
      "execution_count": null,
      "outputs": []
    },
    {
      "cell_type": "code",
      "metadata": {
        "id": "WoqGnE5_E2IE"
      },
      "source": [
        "def preprocess_data(X, Y):\n",
        "        \"\"\" This method has the preprocess to train a model \"\"\"\n",
        "        X = X.astype('float32')\n",
        "        X_p = K.applications.vgg16.preprocess_input(X)\n",
        "        # Y_p = K.utils.to_categorical(Y, 10)\n",
        "        return(X_p, Y)"
      ],
      "execution_count": null,
      "outputs": []
    },
    {
      "cell_type": "code",
      "metadata": {
        "colab": {
          "base_uri": "https://localhost:8080/"
        },
        "id": "eAWMGb0BFAlO",
        "outputId": "f1b3a252-881e-46cb-cd00-09831962f6f8"
      },
      "source": [
        "(Xt, Yt), (X, Y) = K.datasets.cifar10.load_data()\n",
        "X_p, Y_p = preprocess_data(Xt, Yt)\n",
        "Xv_p, Yv_p = preprocess_data(X, Y)\n"
      ],
      "execution_count": null,
      "outputs": [
        {
          "output_type": "stream",
          "text": [
            "Downloading data from https://www.cs.toronto.edu/~kriz/cifar-10-python.tar.gz\n",
            "170500096/170498071 [==============================] - 2s 0us/step\n"
          ],
          "name": "stdout"
        }
      ]
    },
    {
      "cell_type": "code",
      "metadata": {
        "colab": {
          "base_uri": "https://localhost:8080/"
        },
        "id": "gfRVMXL-GYUl",
        "outputId": "cf9badae-36cf-49c2-c432-f016b1d19b13"
      },
      "source": [
        "# X_p=X_p/255.0\n",
        "# Xv_p=Xv_p/255.0\n",
        "X_p.shape"
      ],
      "execution_count": null,
      "outputs": [
        {
          "output_type": "execute_result",
          "data": {
            "text/plain": [
              "(50000, 32, 32, 3)"
            ]
          },
          "metadata": {
            "tags": []
          },
          "execution_count": 4
        }
      ]
    },
    {
      "cell_type": "code",
      "metadata": {
        "colab": {
          "base_uri": "https://localhost:8080/"
        },
        "id": "idlOnRbOJDOH",
        "outputId": "a51c093c-64c8-4ffd-d493-2192a28befc7"
      },
      "source": [
        "# weights are initialized as per the he et al. method\n",
        "initializer = K.initializers.he_normal()\n",
        "# input_tensor = K.Input(shape=(32, 32, 3))\n",
        "\n",
        "\n",
        "IMAGE_SIZE = [32, 32]\n",
        "base_model = VGG16(input_shape=IMAGE_SIZE + [3], weights='imagenet', include_top = False)\n",
        "\n",
        "for layer in base_model.layers:\n",
        "    layer.trainable = False\n",
        "\n",
        "\n",
        "x = Flatten()(base_model.layers[-1].output)\n",
        "dense1 = Dense(256, activation=('relu'), kernel_initializer = initializer,kernel_regularizer=K.regularizers.l2())(x)\n",
        "dense2 = Dense(128, activation=('relu'), kernel_initializer = initializer,kernel_regularizer=K.regularizers.l2())(dense1)\n",
        "prediction = Dense(10, activation='softmax')(dense1)\n",
        "model = Model(inputs = base_model.input, outputs=prediction)\n",
        "model.summary()"
      ],
      "execution_count": null,
      "outputs": [
        {
          "output_type": "stream",
          "text": [
            "Downloading data from https://storage.googleapis.com/tensorflow/keras-applications/vgg16/vgg16_weights_tf_dim_ordering_tf_kernels_notop.h5\n",
            "58892288/58889256 [==============================] - 1s 0us/step\n",
            "58900480/58889256 [==============================] - 1s 0us/step\n",
            "Model: \"model\"\n",
            "_________________________________________________________________\n",
            "Layer (type)                 Output Shape              Param #   \n",
            "=================================================================\n",
            "input_1 (InputLayer)         [(None, 32, 32, 3)]       0         \n",
            "_________________________________________________________________\n",
            "block1_conv1 (Conv2D)        (None, 32, 32, 64)        1792      \n",
            "_________________________________________________________________\n",
            "block1_conv2 (Conv2D)        (None, 32, 32, 64)        36928     \n",
            "_________________________________________________________________\n",
            "block1_pool (MaxPooling2D)   (None, 16, 16, 64)        0         \n",
            "_________________________________________________________________\n",
            "block2_conv1 (Conv2D)        (None, 16, 16, 128)       73856     \n",
            "_________________________________________________________________\n",
            "block2_conv2 (Conv2D)        (None, 16, 16, 128)       147584    \n",
            "_________________________________________________________________\n",
            "block2_pool (MaxPooling2D)   (None, 8, 8, 128)         0         \n",
            "_________________________________________________________________\n",
            "block3_conv1 (Conv2D)        (None, 8, 8, 256)         295168    \n",
            "_________________________________________________________________\n",
            "block3_conv2 (Conv2D)        (None, 8, 8, 256)         590080    \n",
            "_________________________________________________________________\n",
            "block3_conv3 (Conv2D)        (None, 8, 8, 256)         590080    \n",
            "_________________________________________________________________\n",
            "block3_pool (MaxPooling2D)   (None, 4, 4, 256)         0         \n",
            "_________________________________________________________________\n",
            "block4_conv1 (Conv2D)        (None, 4, 4, 512)         1180160   \n",
            "_________________________________________________________________\n",
            "block4_conv2 (Conv2D)        (None, 4, 4, 512)         2359808   \n",
            "_________________________________________________________________\n",
            "block4_conv3 (Conv2D)        (None, 4, 4, 512)         2359808   \n",
            "_________________________________________________________________\n",
            "block4_pool (MaxPooling2D)   (None, 2, 2, 512)         0         \n",
            "_________________________________________________________________\n",
            "block5_conv1 (Conv2D)        (None, 2, 2, 512)         2359808   \n",
            "_________________________________________________________________\n",
            "block5_conv2 (Conv2D)        (None, 2, 2, 512)         2359808   \n",
            "_________________________________________________________________\n",
            "block5_conv3 (Conv2D)        (None, 2, 2, 512)         2359808   \n",
            "_________________________________________________________________\n",
            "block5_pool (MaxPooling2D)   (None, 1, 1, 512)         0         \n",
            "_________________________________________________________________\n",
            "flatten (Flatten)            (None, 512)               0         \n",
            "_________________________________________________________________\n",
            "dense (Dense)                (None, 256)               131328    \n",
            "_________________________________________________________________\n",
            "dense_2 (Dense)              (None, 10)                2570      \n",
            "=================================================================\n",
            "Total params: 14,848,586\n",
            "Trainable params: 133,898\n",
            "Non-trainable params: 14,714,688\n",
            "_________________________________________________________________\n"
          ],
          "name": "stdout"
        }
      ]
    },
    {
      "cell_type": "code",
      "metadata": {
        "id": "m_7QSiT-FfG9"
      },
      "source": [
        "model.compile(loss=\"sparse_categorical_crossentropy\",\n",
        "               optimizer=\"Adam\", metrics=[\"sparse_categorical_accuracy\",\"sparse_categorical_crossentropy\"])\n"
      ],
      "execution_count": null,
      "outputs": []
    },
    {
      "cell_type": "code",
      "metadata": {
        "colab": {
          "base_uri": "https://localhost:8080/"
        },
        "id": "egTgDK9xF1Ij",
        "outputId": "67ffc94f-d50d-47f7-8edb-013c20a004e5"
      },
      "source": [
        "model_history = model.fit(x = X_p, y = Y_p,\n",
        "              batch_size = 16,\n",
        "              validation_data=(Xv_p, Yv_p),\n",
        "              epochs= 65, shuffle=True,\n",
        "              verbose=1\n",
        "              )"
      ],
      "execution_count": null,
      "outputs": [
        {
          "output_type": "stream",
          "text": [
            "Epoch 1/65\n",
            "3125/3125 [==============================] - 70s 9ms/step - loss: 7.0386 - sparse_categorical_accuracy: 0.5125 - sparse_categorical_crossentropy: 3.6476 - val_loss: 1.7823 - val_sparse_categorical_accuracy: 0.6165 - val_sparse_categorical_crossentropy: 1.1351\n",
            "Epoch 2/65\n",
            "3125/3125 [==============================] - 27s 9ms/step - loss: 1.5679 - sparse_categorical_accuracy: 0.6269 - sparse_categorical_crossentropy: 1.0723 - val_loss: 1.3920 - val_sparse_categorical_accuracy: 0.6175 - val_sparse_categorical_crossentropy: 1.1084\n",
            "Epoch 3/65\n",
            "3125/3125 [==============================] - 28s 9ms/step - loss: 1.3127 - sparse_categorical_accuracy: 0.6363 - sparse_categorical_crossentropy: 1.0521 - val_loss: 1.2580 - val_sparse_categorical_accuracy: 0.6329 - val_sparse_categorical_crossentropy: 1.0621\n",
            "Epoch 4/65\n",
            "3125/3125 [==============================] - 28s 9ms/step - loss: 1.2113 - sparse_categorical_accuracy: 0.6448 - sparse_categorical_crossentropy: 1.0215 - val_loss: 1.2326 - val_sparse_categorical_accuracy: 0.6290 - val_sparse_categorical_crossentropy: 1.0725\n",
            "Epoch 5/65\n",
            "3125/3125 [==============================] - 27s 9ms/step - loss: 1.1705 - sparse_categorical_accuracy: 0.6455 - sparse_categorical_crossentropy: 1.0161 - val_loss: 1.1904 - val_sparse_categorical_accuracy: 0.6337 - val_sparse_categorical_crossentropy: 1.0546\n",
            "Epoch 6/65\n",
            "3125/3125 [==============================] - 28s 9ms/step - loss: 1.1559 - sparse_categorical_accuracy: 0.6449 - sparse_categorical_crossentropy: 1.0176 - val_loss: 1.1986 - val_sparse_categorical_accuracy: 0.6375 - val_sparse_categorical_crossentropy: 1.0708\n",
            "Epoch 7/65\n",
            "3125/3125 [==============================] - 27s 9ms/step - loss: 1.1243 - sparse_categorical_accuracy: 0.6540 - sparse_categorical_crossentropy: 0.9966 - val_loss: 1.1636 - val_sparse_categorical_accuracy: 0.6416 - val_sparse_categorical_crossentropy: 1.0403\n",
            "Epoch 8/65\n",
            "3125/3125 [==============================] - 28s 9ms/step - loss: 1.1268 - sparse_categorical_accuracy: 0.6507 - sparse_categorical_crossentropy: 1.0047 - val_loss: 1.1715 - val_sparse_categorical_accuracy: 0.6398 - val_sparse_categorical_crossentropy: 1.0563\n",
            "Epoch 9/65\n",
            "3125/3125 [==============================] - 27s 9ms/step - loss: 1.1279 - sparse_categorical_accuracy: 0.6493 - sparse_categorical_crossentropy: 1.0100 - val_loss: 1.1768 - val_sparse_categorical_accuracy: 0.6320 - val_sparse_categorical_crossentropy: 1.0649\n",
            "Epoch 10/65\n",
            "3125/3125 [==============================] - 27s 9ms/step - loss: 1.1299 - sparse_categorical_accuracy: 0.6499 - sparse_categorical_crossentropy: 1.0146 - val_loss: 1.1507 - val_sparse_categorical_accuracy: 0.6428 - val_sparse_categorical_crossentropy: 1.0417\n",
            "Epoch 11/65\n",
            "3125/3125 [==============================] - 28s 9ms/step - loss: 1.1135 - sparse_categorical_accuracy: 0.6537 - sparse_categorical_crossentropy: 1.0022 - val_loss: 1.1334 - val_sparse_categorical_accuracy: 0.6468 - val_sparse_categorical_crossentropy: 1.0275\n",
            "Epoch 12/65\n",
            "3125/3125 [==============================] - 27s 9ms/step - loss: 1.1056 - sparse_categorical_accuracy: 0.6551 - sparse_categorical_crossentropy: 0.9964 - val_loss: 1.1308 - val_sparse_categorical_accuracy: 0.6504 - val_sparse_categorical_crossentropy: 1.0296\n",
            "Epoch 13/65\n",
            "3125/3125 [==============================] - 27s 9ms/step - loss: 1.0993 - sparse_categorical_accuracy: 0.6559 - sparse_categorical_crossentropy: 0.9941 - val_loss: 1.1415 - val_sparse_categorical_accuracy: 0.6423 - val_sparse_categorical_crossentropy: 1.0384\n",
            "Epoch 14/65\n",
            "3125/3125 [==============================] - 28s 9ms/step - loss: 1.0991 - sparse_categorical_accuracy: 0.6566 - sparse_categorical_crossentropy: 0.9940 - val_loss: 1.1367 - val_sparse_categorical_accuracy: 0.6425 - val_sparse_categorical_crossentropy: 1.0358\n",
            "Epoch 15/65\n",
            "3125/3125 [==============================] - 27s 9ms/step - loss: 1.1064 - sparse_categorical_accuracy: 0.6524 - sparse_categorical_crossentropy: 1.0037 - val_loss: 1.1326 - val_sparse_categorical_accuracy: 0.6436 - val_sparse_categorical_crossentropy: 1.0346\n",
            "Epoch 16/65\n",
            "3125/3125 [==============================] - 28s 9ms/step - loss: 1.1048 - sparse_categorical_accuracy: 0.6503 - sparse_categorical_crossentropy: 1.0044 - val_loss: 1.1188 - val_sparse_categorical_accuracy: 0.6498 - val_sparse_categorical_crossentropy: 1.0248\n",
            "Epoch 17/65\n",
            "3125/3125 [==============================] - 27s 9ms/step - loss: 1.0969 - sparse_categorical_accuracy: 0.6517 - sparse_categorical_crossentropy: 0.9990 - val_loss: 1.1232 - val_sparse_categorical_accuracy: 0.6446 - val_sparse_categorical_crossentropy: 1.0287\n",
            "Epoch 18/65\n",
            "3125/3125 [==============================] - 27s 9ms/step - loss: 1.1003 - sparse_categorical_accuracy: 0.6555 - sparse_categorical_crossentropy: 1.0043 - val_loss: 1.1413 - val_sparse_categorical_accuracy: 0.6407 - val_sparse_categorical_crossentropy: 1.0482\n",
            "Epoch 19/65\n",
            "3125/3125 [==============================] - 28s 9ms/step - loss: 1.0937 - sparse_categorical_accuracy: 0.6534 - sparse_categorical_crossentropy: 0.9984 - val_loss: 1.1211 - val_sparse_categorical_accuracy: 0.6469 - val_sparse_categorical_crossentropy: 1.0284\n",
            "Epoch 20/65\n",
            "3125/3125 [==============================] - 28s 9ms/step - loss: 1.1028 - sparse_categorical_accuracy: 0.6501 - sparse_categorical_crossentropy: 1.0082 - val_loss: 1.1318 - val_sparse_categorical_accuracy: 0.6402 - val_sparse_categorical_crossentropy: 1.0402\n",
            "Epoch 21/65\n",
            "3125/3125 [==============================] - 27s 9ms/step - loss: 1.1013 - sparse_categorical_accuracy: 0.6503 - sparse_categorical_crossentropy: 1.0060 - val_loss: 1.1345 - val_sparse_categorical_accuracy: 0.6457 - val_sparse_categorical_crossentropy: 1.0412\n",
            "Epoch 22/65\n",
            "3125/3125 [==============================] - 27s 9ms/step - loss: 1.0995 - sparse_categorical_accuracy: 0.6489 - sparse_categorical_crossentropy: 1.0051 - val_loss: 1.1236 - val_sparse_categorical_accuracy: 0.6472 - val_sparse_categorical_crossentropy: 1.0316\n",
            "Epoch 23/65\n",
            "3125/3125 [==============================] - 28s 9ms/step - loss: 1.0947 - sparse_categorical_accuracy: 0.6537 - sparse_categorical_crossentropy: 1.0000 - val_loss: 1.1306 - val_sparse_categorical_accuracy: 0.6419 - val_sparse_categorical_crossentropy: 1.0404\n",
            "Epoch 24/65\n",
            "3125/3125 [==============================] - 27s 9ms/step - loss: 1.0924 - sparse_categorical_accuracy: 0.6524 - sparse_categorical_crossentropy: 1.0000 - val_loss: 1.1391 - val_sparse_categorical_accuracy: 0.6390 - val_sparse_categorical_crossentropy: 1.0480\n",
            "Epoch 25/65\n",
            "3125/3125 [==============================] - 27s 9ms/step - loss: 1.0895 - sparse_categorical_accuracy: 0.6546 - sparse_categorical_crossentropy: 0.9971 - val_loss: 1.1248 - val_sparse_categorical_accuracy: 0.6428 - val_sparse_categorical_crossentropy: 1.0325\n",
            "Epoch 26/65\n",
            "3125/3125 [==============================] - 27s 9ms/step - loss: 1.0914 - sparse_categorical_accuracy: 0.6560 - sparse_categorical_crossentropy: 0.9982 - val_loss: 1.1288 - val_sparse_categorical_accuracy: 0.6420 - val_sparse_categorical_crossentropy: 1.0366\n",
            "Epoch 27/65\n",
            "3125/3125 [==============================] - 27s 9ms/step - loss: 1.0903 - sparse_categorical_accuracy: 0.6523 - sparse_categorical_crossentropy: 0.9974 - val_loss: 1.1163 - val_sparse_categorical_accuracy: 0.6473 - val_sparse_categorical_crossentropy: 1.0267\n",
            "Epoch 28/65\n",
            "3125/3125 [==============================] - 28s 9ms/step - loss: 1.0875 - sparse_categorical_accuracy: 0.6519 - sparse_categorical_crossentropy: 0.9953 - val_loss: 1.1357 - val_sparse_categorical_accuracy: 0.6399 - val_sparse_categorical_crossentropy: 1.0448\n",
            "Epoch 29/65\n",
            "3125/3125 [==============================] - 27s 9ms/step - loss: 1.0926 - sparse_categorical_accuracy: 0.6540 - sparse_categorical_crossentropy: 1.0005 - val_loss: 1.1433 - val_sparse_categorical_accuracy: 0.6393 - val_sparse_categorical_crossentropy: 1.0528\n",
            "Epoch 30/65\n",
            "3125/3125 [==============================] - 28s 9ms/step - loss: 1.0896 - sparse_categorical_accuracy: 0.6533 - sparse_categorical_crossentropy: 0.9981 - val_loss: 1.1202 - val_sparse_categorical_accuracy: 0.6483 - val_sparse_categorical_crossentropy: 1.0288\n",
            "Epoch 31/65\n",
            "3125/3125 [==============================] - 28s 9ms/step - loss: 1.0863 - sparse_categorical_accuracy: 0.6527 - sparse_categorical_crossentropy: 0.9935 - val_loss: 1.1211 - val_sparse_categorical_accuracy: 0.6434 - val_sparse_categorical_crossentropy: 1.0322\n",
            "Epoch 32/65\n",
            "3125/3125 [==============================] - 27s 9ms/step - loss: 1.0901 - sparse_categorical_accuracy: 0.6546 - sparse_categorical_crossentropy: 0.9987 - val_loss: 1.1485 - val_sparse_categorical_accuracy: 0.6292 - val_sparse_categorical_crossentropy: 1.0600\n",
            "Epoch 33/65\n",
            "3125/3125 [==============================] - 28s 9ms/step - loss: 1.0895 - sparse_categorical_accuracy: 0.6521 - sparse_categorical_crossentropy: 0.9984 - val_loss: 1.1486 - val_sparse_categorical_accuracy: 0.6343 - val_sparse_categorical_crossentropy: 1.0608\n",
            "Epoch 34/65\n",
            "3125/3125 [==============================] - 27s 9ms/step - loss: 1.0894 - sparse_categorical_accuracy: 0.6524 - sparse_categorical_crossentropy: 0.9985 - val_loss: 1.1226 - val_sparse_categorical_accuracy: 0.6466 - val_sparse_categorical_crossentropy: 1.0337\n",
            "Epoch 35/65\n",
            "3125/3125 [==============================] - 28s 9ms/step - loss: 1.0848 - sparse_categorical_accuracy: 0.6575 - sparse_categorical_crossentropy: 0.9938 - val_loss: 1.1302 - val_sparse_categorical_accuracy: 0.6396 - val_sparse_categorical_crossentropy: 1.0409\n",
            "Epoch 36/65\n",
            "3125/3125 [==============================] - 28s 9ms/step - loss: 1.0956 - sparse_categorical_accuracy: 0.6518 - sparse_categorical_crossentropy: 1.0049 - val_loss: 1.1257 - val_sparse_categorical_accuracy: 0.6406 - val_sparse_categorical_crossentropy: 1.0359\n",
            "Epoch 37/65\n",
            "3125/3125 [==============================] - 27s 9ms/step - loss: 1.0909 - sparse_categorical_accuracy: 0.6540 - sparse_categorical_crossentropy: 0.9999 - val_loss: 1.1170 - val_sparse_categorical_accuracy: 0.6440 - val_sparse_categorical_crossentropy: 1.0284\n",
            "Epoch 38/65\n",
            "3125/3125 [==============================] - 27s 9ms/step - loss: 1.0920 - sparse_categorical_accuracy: 0.6548 - sparse_categorical_crossentropy: 1.0008 - val_loss: 1.1293 - val_sparse_categorical_accuracy: 0.6454 - val_sparse_categorical_crossentropy: 1.0394\n",
            "Epoch 39/65\n",
            "3125/3125 [==============================] - 27s 9ms/step - loss: 1.0893 - sparse_categorical_accuracy: 0.6527 - sparse_categorical_crossentropy: 0.9983 - val_loss: 1.1541 - val_sparse_categorical_accuracy: 0.6326 - val_sparse_categorical_crossentropy: 1.0641\n",
            "Epoch 40/65\n",
            "3125/3125 [==============================] - 27s 9ms/step - loss: 1.0901 - sparse_categorical_accuracy: 0.6526 - sparse_categorical_crossentropy: 0.9989 - val_loss: 1.1233 - val_sparse_categorical_accuracy: 0.6461 - val_sparse_categorical_crossentropy: 1.0336\n",
            "Epoch 41/65\n",
            "3125/3125 [==============================] - 28s 9ms/step - loss: 1.0877 - sparse_categorical_accuracy: 0.6541 - sparse_categorical_crossentropy: 0.9956 - val_loss: 1.1268 - val_sparse_categorical_accuracy: 0.6457 - val_sparse_categorical_crossentropy: 1.0389\n",
            "Epoch 42/65\n",
            "3125/3125 [==============================] - 27s 9ms/step - loss: 1.0943 - sparse_categorical_accuracy: 0.6498 - sparse_categorical_crossentropy: 1.0038 - val_loss: 1.1611 - val_sparse_categorical_accuracy: 0.6228 - val_sparse_categorical_crossentropy: 1.0706\n",
            "Epoch 43/65\n",
            "3125/3125 [==============================] - 28s 9ms/step - loss: 1.0889 - sparse_categorical_accuracy: 0.6533 - sparse_categorical_crossentropy: 0.9974 - val_loss: 1.1212 - val_sparse_categorical_accuracy: 0.6437 - val_sparse_categorical_crossentropy: 1.0327\n",
            "Epoch 44/65\n",
            "3125/3125 [==============================] - 27s 9ms/step - loss: 1.0987 - sparse_categorical_accuracy: 0.6499 - sparse_categorical_crossentropy: 1.0081 - val_loss: 1.1230 - val_sparse_categorical_accuracy: 0.6410 - val_sparse_categorical_crossentropy: 1.0331\n",
            "Epoch 45/65\n",
            "3125/3125 [==============================] - 28s 9ms/step - loss: 1.0834 - sparse_categorical_accuracy: 0.6540 - sparse_categorical_crossentropy: 0.9921 - val_loss: 1.1502 - val_sparse_categorical_accuracy: 0.6348 - val_sparse_categorical_crossentropy: 1.0611\n",
            "Epoch 46/65\n",
            "3125/3125 [==============================] - 27s 9ms/step - loss: 1.0920 - sparse_categorical_accuracy: 0.6517 - sparse_categorical_crossentropy: 1.0013 - val_loss: 1.1311 - val_sparse_categorical_accuracy: 0.6453 - val_sparse_categorical_crossentropy: 1.0408\n",
            "Epoch 47/65\n",
            "3125/3125 [==============================] - 27s 9ms/step - loss: 1.0951 - sparse_categorical_accuracy: 0.6504 - sparse_categorical_crossentropy: 1.0032 - val_loss: 1.1314 - val_sparse_categorical_accuracy: 0.6437 - val_sparse_categorical_crossentropy: 1.0418\n",
            "Epoch 48/65\n",
            "3125/3125 [==============================] - 28s 9ms/step - loss: 1.0877 - sparse_categorical_accuracy: 0.6568 - sparse_categorical_crossentropy: 0.9958 - val_loss: 1.1228 - val_sparse_categorical_accuracy: 0.6418 - val_sparse_categorical_crossentropy: 1.0330\n",
            "Epoch 49/65\n",
            "3125/3125 [==============================] - 28s 9ms/step - loss: 1.0839 - sparse_categorical_accuracy: 0.6531 - sparse_categorical_crossentropy: 0.9921 - val_loss: 1.1259 - val_sparse_categorical_accuracy: 0.6508 - val_sparse_categorical_crossentropy: 1.0368\n",
            "Epoch 50/65\n",
            "3125/3125 [==============================] - 28s 9ms/step - loss: 1.0935 - sparse_categorical_accuracy: 0.6514 - sparse_categorical_crossentropy: 1.0020 - val_loss: 1.1486 - val_sparse_categorical_accuracy: 0.6313 - val_sparse_categorical_crossentropy: 1.0587\n",
            "Epoch 51/65\n",
            "3125/3125 [==============================] - 27s 9ms/step - loss: 1.0948 - sparse_categorical_accuracy: 0.6502 - sparse_categorical_crossentropy: 1.0030 - val_loss: 1.1085 - val_sparse_categorical_accuracy: 0.6517 - val_sparse_categorical_crossentropy: 1.0190\n",
            "Epoch 52/65\n",
            "3125/3125 [==============================] - 27s 9ms/step - loss: 1.0903 - sparse_categorical_accuracy: 0.6521 - sparse_categorical_crossentropy: 0.9990 - val_loss: 1.1408 - val_sparse_categorical_accuracy: 0.6400 - val_sparse_categorical_crossentropy: 1.0520\n",
            "Epoch 53/65\n",
            "3125/3125 [==============================] - 28s 9ms/step - loss: 1.0897 - sparse_categorical_accuracy: 0.6516 - sparse_categorical_crossentropy: 0.9982 - val_loss: 1.1237 - val_sparse_categorical_accuracy: 0.6464 - val_sparse_categorical_crossentropy: 1.0336\n",
            "Epoch 54/65\n",
            "3125/3125 [==============================] - 28s 9ms/step - loss: 1.0885 - sparse_categorical_accuracy: 0.6550 - sparse_categorical_crossentropy: 0.9973 - val_loss: 1.1181 - val_sparse_categorical_accuracy: 0.6501 - val_sparse_categorical_crossentropy: 1.0281\n",
            "Epoch 55/65\n",
            "3125/3125 [==============================] - 28s 9ms/step - loss: 1.0912 - sparse_categorical_accuracy: 0.6531 - sparse_categorical_crossentropy: 0.9997 - val_loss: 1.1337 - val_sparse_categorical_accuracy: 0.6381 - val_sparse_categorical_crossentropy: 1.0450\n",
            "Epoch 56/65\n",
            "3125/3125 [==============================] - 28s 9ms/step - loss: 1.0842 - sparse_categorical_accuracy: 0.6553 - sparse_categorical_crossentropy: 0.9935 - val_loss: 1.1214 - val_sparse_categorical_accuracy: 0.6415 - val_sparse_categorical_crossentropy: 1.0313\n",
            "Epoch 57/65\n",
            "3125/3125 [==============================] - 27s 9ms/step - loss: 1.0890 - sparse_categorical_accuracy: 0.6548 - sparse_categorical_crossentropy: 0.9972 - val_loss: 1.1254 - val_sparse_categorical_accuracy: 0.6428 - val_sparse_categorical_crossentropy: 1.0361\n",
            "Epoch 58/65\n",
            "3125/3125 [==============================] - 28s 9ms/step - loss: 1.0921 - sparse_categorical_accuracy: 0.6521 - sparse_categorical_crossentropy: 1.0008 - val_loss: 1.1487 - val_sparse_categorical_accuracy: 0.6352 - val_sparse_categorical_crossentropy: 1.0586\n",
            "Epoch 59/65\n",
            "3125/3125 [==============================] - 28s 9ms/step - loss: 1.0909 - sparse_categorical_accuracy: 0.6532 - sparse_categorical_crossentropy: 0.9989 - val_loss: 1.1107 - val_sparse_categorical_accuracy: 0.6486 - val_sparse_categorical_crossentropy: 1.0215\n",
            "Epoch 60/65\n",
            "3125/3125 [==============================] - 27s 9ms/step - loss: 1.0945 - sparse_categorical_accuracy: 0.6489 - sparse_categorical_crossentropy: 1.0023 - val_loss: 1.1372 - val_sparse_categorical_accuracy: 0.6398 - val_sparse_categorical_crossentropy: 1.0479\n",
            "Epoch 61/65\n",
            "3125/3125 [==============================] - 28s 9ms/step - loss: 1.0948 - sparse_categorical_accuracy: 0.6509 - sparse_categorical_crossentropy: 1.0036 - val_loss: 1.1131 - val_sparse_categorical_accuracy: 0.6479 - val_sparse_categorical_crossentropy: 1.0242\n",
            "Epoch 62/65\n",
            "3125/3125 [==============================] - 27s 9ms/step - loss: 1.0863 - sparse_categorical_accuracy: 0.6522 - sparse_categorical_crossentropy: 0.9950 - val_loss: 1.1053 - val_sparse_categorical_accuracy: 0.6494 - val_sparse_categorical_crossentropy: 1.0165\n",
            "Epoch 63/65\n",
            "3125/3125 [==============================] - 27s 9ms/step - loss: 1.0840 - sparse_categorical_accuracy: 0.6536 - sparse_categorical_crossentropy: 0.9925 - val_loss: 1.1264 - val_sparse_categorical_accuracy: 0.6421 - val_sparse_categorical_crossentropy: 1.0377\n",
            "Epoch 64/65\n",
            "3125/3125 [==============================] - 28s 9ms/step - loss: 1.0873 - sparse_categorical_accuracy: 0.6518 - sparse_categorical_crossentropy: 0.9971 - val_loss: 1.1326 - val_sparse_categorical_accuracy: 0.6375 - val_sparse_categorical_crossentropy: 1.0425\n",
            "Epoch 65/65\n",
            "3125/3125 [==============================] - 27s 9ms/step - loss: 1.0810 - sparse_categorical_accuracy: 0.6562 - sparse_categorical_crossentropy: 0.9895 - val_loss: 1.1221 - val_sparse_categorical_accuracy: 0.6465 - val_sparse_categorical_crossentropy: 1.0318\n"
          ],
          "name": "stdout"
        }
      ]
    },
    {
      "cell_type": "code",
      "metadata": {
        "colab": {
          "base_uri": "https://localhost:8080/",
          "height": 295
        },
        "id": "261dPCw1F93n",
        "outputId": "2c36881f-10a4-4955-c9ce-3ebd040c747e"
      },
      "source": [
        "_# Plot training & validation loss values\n",
        "plt.plot(model_history.history['sparse_categorical_accuracy'])\n",
        "plt.plot(model_history.history['sparse_categorical_crossentropy'])\n",
        "plt.title('CNN Model accuracy values and loss value')\n",
        "plt.ylabel('Accuracy')\n",
        "plt.xlabel('Epoch')\n",
        "plt.legend(['accuracy', 'loss'], loc='upper left')\n",
        "plt.show()"
      ],
      "execution_count": null,
      "outputs": [
        {
          "output_type": "display_data",
          "data": {
            "image/png": "[encoded data removed]",
            "text/plain": [
              "<Figure size 432x288 with 1 Axes>"
            ]
          },
          "metadata": {
            "tags": [],
            "needs_background": "light"
          }
        }
      ]
    },
    {
      "cell_type": "code",
      "metadata": {
        "colab": {
          "base_uri": "https://localhost:8080/"
        },
        "id": "uLGZkh63rMHA",
        "outputId": "03ba5437-0768-4ae5-c0d4-6504dd15c0fd"
      },
      "source": [
        "test_loss, test_accuracy, *other_values = model.evaluate(Xv_p, Yv_p)"
      ],
      "execution_count": null,
      "outputs": [
        {
          "output_type": "stream",
          "text": [
            "313/313 [==============================] - 4s 9ms/step - loss: 1.1221 - sparse_categorical_accuracy: 0.6465 - sparse_categorical_crossentropy: 1.0318\n"
          ],
          "name": "stdout"
        }
      ]
    },
    {
      "cell_type": "code",
      "metadata": {
        "colab": {
          "base_uri": "https://localhost:8080/"
        },
        "id": "CVdnbwN7rbZm",
        "outputId": "6b9f0b96-4444-452c-ced0-52db758c2d47"
      },
      "source": [
        "print(\"Test accuracy: {}\".format(test_accuracy))"
      ],
      "execution_count": null,
      "outputs": [
        {
          "output_type": "stream",
          "text": [
            "Test accuracy: 0.6464999914169312\n"
          ],
          "name": "stdout"
        }
      ]
    },
    {
      "cell_type": "code",
      "metadata": {
        "colab": {
          "base_uri": "https://localhost:8080/"
        },
        "id": "jhnQ2NgSrjPy",
        "outputId": "0f78edfc-7632-4773-9a24-ad232fffb149"
      },
      "source": [
        "print(\"Test loss: {}\".format(test_loss))"
      ],
      "execution_count": null,
      "outputs": [
        {
          "output_type": "stream",
          "text": [
            "Test loss: 1.1220791339874268\n"
          ],
          "name": "stdout"
        }
      ]
    },
    {
      "cell_type": "code",
      "metadata": {
        "colab": {
          "base_uri": "https://localhost:8080/"
        },
        "id": "u6qD-5-TrmaD",
        "outputId": "837ea423-23fd-4777-ed5a-5526ca9b7a04"
      },
      "source": [
        "from google.colab import drive\n",
        "drive.mount('/content/drive',force_remount=True)"
      ],
      "execution_count": null,
      "outputs": [
        {
          "output_type": "stream",
          "text": [
            "Mounted at /content/drive\n"
          ],
          "name": "stdout"
        }
      ]
    },
    {
      "cell_type": "code",
      "metadata": {
        "colab": {
          "base_uri": "https://localhost:8080/"
        },
        "id": "oR7ELWYGrsH2",
        "outputId": "e3fe2ca4-643d-453d-849d-bbeca9dffbec"
      },
      "source": [
        " !ls /content/drive/My\\ Drive/ML_models"
      ],
      "execution_count": null,
      "outputs": [
        {
          "output_type": "stream",
          "text": [
            "example  vggmodel_4.h5\tvggmodel.h5\n"
          ],
          "name": "stdout"
        }
      ]
    },
    {
      "cell_type": "code",
      "metadata": {
        "id": "p-P8-Jktr0Gw"
      },
      "source": [
        "model.save('/content/drive/My Drive/ML_models/vggmodel_v2.h5')"
      ],
      "execution_count": null,
      "outputs": []
    },
    {
      "cell_type": "code",
      "metadata": {
        "colab": {
          "base_uri": "https://localhost:8080/"
        },
        "id": "WoGoBY8Rruhf",
        "outputId": "8252a8e7-cb6a-404b-bc4a-d0e97e017d4b"
      },
      "source": [
        " !ls /content/drive/My\\ Drive/ML_models"
      ],
      "execution_count": null,
      "outputs": [
        {
          "output_type": "stream",
          "text": [
            "example  vggmodel_4.h5\tvggmodel.h5  vggmodel_v2.h5\n"
          ],
          "name": "stdout"
        }
      ]
    }
  ]
}